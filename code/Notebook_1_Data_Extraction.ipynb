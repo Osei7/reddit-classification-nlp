{
 "cells": [
  {
   "cell_type": "code",
   "execution_count": 2,
   "id": "2d32f871-b56c-4aeb-a4a2-a47d40a3dc5c",
   "metadata": {},
   "outputs": [],
   "source": [
    "import requests\n",
    "import calendar\n",
    "import time\n",
    "import pandas as pd"
   ]
  },
  {
   "cell_type": "markdown",
   "id": "52d15367-a62a-49e9-ba0c-271a8bf2c5bb",
   "metadata": {},
   "source": [
    "## Subreddit Personal Finance Submissions"
   ]
  },
  {
   "cell_type": "code",
   "execution_count": 3,
   "id": "48b8ee6b-9090-427b-8381-0cdc1ed8d694",
   "metadata": {},
   "outputs": [],
   "source": [
    "url = 'https://api.pushshift.io/reddit/search/submission'\n",
    "params = {\n",
    "    'subreddit': 'personalfinance',\n",
    "    'limit': 1000,\n",
    "    'filter': 'subreddit, selftext, title, created_utc'\n",
    "\n",
    "}"
   ]
  },
  {
   "cell_type": "code",
   "execution_count": 4,
   "id": "cebd871f-5449-4f00-9e83-872623f11c38",
   "metadata": {},
   "outputs": [
    {
     "data": {
      "text/plain": [
       "200"
      ]
     },
     "execution_count": 4,
     "metadata": {},
     "output_type": "execute_result"
    }
   ],
   "source": [
    "res = requests.get(url, params)\n",
    "res.status_code"
   ]
  },
  {
   "cell_type": "code",
   "execution_count": 5,
   "id": "16686654-55fc-4228-ae8f-0a26ad8cbe2f",
   "metadata": {
    "tags": []
   },
   "outputs": [],
   "source": [
    "data = res.json()"
   ]
  },
  {
   "cell_type": "code",
   "execution_count": 6,
   "id": "13ebcff4-839e-4603-a67f-e6d6135d4c0f",
   "metadata": {},
   "outputs": [],
   "source": [
    "posts = data['data']"
   ]
  },
  {
   "cell_type": "code",
   "execution_count": 7,
   "id": "29502782-7b18-40cc-b0d7-8e6ed31b09a6",
   "metadata": {},
   "outputs": [
    {
     "data": {
      "text/plain": [
       "1000"
      ]
     },
     "execution_count": 7,
     "metadata": {},
     "output_type": "execute_result"
    }
   ],
   "source": [
    "len(posts)"
   ]
  },
  {
   "cell_type": "code",
   "execution_count": 8,
   "id": "75acd4a4-5798-431d-af46-01590c24e5b1",
   "metadata": {},
   "outputs": [],
   "source": [
    "df1_pf_subs = pd.DataFrame(posts)"
   ]
  },
  {
   "cell_type": "code",
   "execution_count": 9,
   "id": "73f79397-7bb3-451f-ab5a-652fb60fd222",
   "metadata": {},
   "outputs": [
    {
     "data": {
      "text/html": [
       "<div>\n",
       "<style scoped>\n",
       "    .dataframe tbody tr th:only-of-type {\n",
       "        vertical-align: middle;\n",
       "    }\n",
       "\n",
       "    .dataframe tbody tr th {\n",
       "        vertical-align: top;\n",
       "    }\n",
       "\n",
       "    .dataframe thead th {\n",
       "        text-align: right;\n",
       "    }\n",
       "</style>\n",
       "<table border=\"1\" class=\"dataframe\">\n",
       "  <thead>\n",
       "    <tr style=\"text-align: right;\">\n",
       "      <th></th>\n",
       "      <th>subreddit</th>\n",
       "      <th>selftext</th>\n",
       "      <th>title</th>\n",
       "      <th>created_utc</th>\n",
       "    </tr>\n",
       "  </thead>\n",
       "  <tbody>\n",
       "    <tr>\n",
       "      <th>0</th>\n",
       "      <td>personalfinance</td>\n",
       "      <td>For years I put money into a deferred compensa...</td>\n",
       "      <td>Percentage of paycheck into Deferred Comp plan...</td>\n",
       "      <td>1673558530</td>\n",
       "    </tr>\n",
       "    <tr>\n",
       "      <th>1</th>\n",
       "      <td>personalfinance</td>\n",
       "      <td>So I’m 19 and currently in university And Ive ...</td>\n",
       "      <td>19yrs old First Car (you know the drill)</td>\n",
       "      <td>1673557919</td>\n",
       "    </tr>\n",
       "    <tr>\n",
       "      <th>2</th>\n",
       "      <td>personalfinance</td>\n",
       "      <td>The other day I was turning right on a green i...</td>\n",
       "      <td>Other driver ran into me, but I don't have ins...</td>\n",
       "      <td>1673557799</td>\n",
       "    </tr>\n",
       "    <tr>\n",
       "      <th>3</th>\n",
       "      <td>personalfinance</td>\n",
       "      <td>[removed]</td>\n",
       "      <td>Need help with a parent who’s reluctant to beg...</td>\n",
       "      <td>1673557711</td>\n",
       "    </tr>\n",
       "    <tr>\n",
       "      <th>4</th>\n",
       "      <td>personalfinance</td>\n",
       "      <td>[removed]</td>\n",
       "      <td>How do I buy a house? How do I qualify? What’s...</td>\n",
       "      <td>1673557611</td>\n",
       "    </tr>\n",
       "  </tbody>\n",
       "</table>\n",
       "</div>"
      ],
      "text/plain": [
       "         subreddit                                           selftext  \\\n",
       "0  personalfinance  For years I put money into a deferred compensa...   \n",
       "1  personalfinance  So I’m 19 and currently in university And Ive ...   \n",
       "2  personalfinance  The other day I was turning right on a green i...   \n",
       "3  personalfinance                                          [removed]   \n",
       "4  personalfinance                                          [removed]   \n",
       "\n",
       "                                               title  created_utc  \n",
       "0  Percentage of paycheck into Deferred Comp plan...   1673558530  \n",
       "1           19yrs old First Car (you know the drill)   1673557919  \n",
       "2  Other driver ran into me, but I don't have ins...   1673557799  \n",
       "3  Need help with a parent who’s reluctant to beg...   1673557711  \n",
       "4  How do I buy a house? How do I qualify? What’s...   1673557611  "
      ]
     },
     "execution_count": 9,
     "metadata": {},
     "output_type": "execute_result"
    }
   ],
   "source": [
    "df1_pf_subs.head()"
   ]
  },
  {
   "cell_type": "code",
   "execution_count": 10,
   "id": "c8c9fc69-83ea-418b-80f3-927de56f7cce",
   "metadata": {},
   "outputs": [
    {
     "data": {
      "text/html": [
       "<div>\n",
       "<style scoped>\n",
       "    .dataframe tbody tr th:only-of-type {\n",
       "        vertical-align: middle;\n",
       "    }\n",
       "\n",
       "    .dataframe tbody tr th {\n",
       "        vertical-align: top;\n",
       "    }\n",
       "\n",
       "    .dataframe thead th {\n",
       "        text-align: right;\n",
       "    }\n",
       "</style>\n",
       "<table border=\"1\" class=\"dataframe\">\n",
       "  <thead>\n",
       "    <tr style=\"text-align: right;\">\n",
       "      <th></th>\n",
       "      <th>subreddit</th>\n",
       "      <th>selftext</th>\n",
       "      <th>title</th>\n",
       "      <th>created_utc</th>\n",
       "    </tr>\n",
       "  </thead>\n",
       "  <tbody>\n",
       "    <tr>\n",
       "      <th>995</th>\n",
       "      <td>personalfinance</td>\n",
       "      <td>My college was shutdown I had the fed loands w...</td>\n",
       "      <td>How to report income om taxes</td>\n",
       "      <td>1673341870</td>\n",
       "    </tr>\n",
       "    <tr>\n",
       "      <th>996</th>\n",
       "      <td>personalfinance</td>\n",
       "      <td>When it comes to paying off credit cards, the ...</td>\n",
       "      <td>Credit card interest rate vs. interest charge</td>\n",
       "      <td>1673340293</td>\n",
       "    </tr>\n",
       "    <tr>\n",
       "      <th>997</th>\n",
       "      <td>personalfinance</td>\n",
       "      <td>Hi all, \\nI'll cut to the chase. I'm super you...</td>\n",
       "      <td>Budgeting for a young person</td>\n",
       "      <td>1673340079</td>\n",
       "    </tr>\n",
       "    <tr>\n",
       "      <th>998</th>\n",
       "      <td>personalfinance</td>\n",
       "      <td>[removed]</td>\n",
       "      <td>Help me save for retirement with our S-Corp</td>\n",
       "      <td>1673339470</td>\n",
       "    </tr>\n",
       "    <tr>\n",
       "      <th>999</th>\n",
       "      <td>personalfinance</td>\n",
       "      <td>My employer is going through an HSA transfer f...</td>\n",
       "      <td>Unable to liquidate all investments for my Opt...</td>\n",
       "      <td>1673339356</td>\n",
       "    </tr>\n",
       "  </tbody>\n",
       "</table>\n",
       "</div>"
      ],
      "text/plain": [
       "           subreddit                                           selftext  \\\n",
       "995  personalfinance  My college was shutdown I had the fed loands w...   \n",
       "996  personalfinance  When it comes to paying off credit cards, the ...   \n",
       "997  personalfinance  Hi all, \\nI'll cut to the chase. I'm super you...   \n",
       "998  personalfinance                                          [removed]   \n",
       "999  personalfinance  My employer is going through an HSA transfer f...   \n",
       "\n",
       "                                                 title  created_utc  \n",
       "995                      How to report income om taxes   1673341870  \n",
       "996      Credit card interest rate vs. interest charge   1673340293  \n",
       "997                       Budgeting for a young person   1673340079  \n",
       "998        Help me save for retirement with our S-Corp   1673339470  \n",
       "999  Unable to liquidate all investments for my Opt...   1673339356  "
      ]
     },
     "execution_count": 10,
     "metadata": {},
     "output_type": "execute_result"
    }
   ],
   "source": [
    "df1_pf_subs.tail()"
   ]
  },
  {
   "cell_type": "code",
   "execution_count": 11,
   "id": "48656345-14a9-43be-8c2b-edd7383e4247",
   "metadata": {},
   "outputs": [],
   "source": [
    "url = 'https://api.pushshift.io/reddit/search/submission'\n",
    "params = {\n",
    "    'subreddit': 'personalfinance',\n",
    "    'limit': 1000,\n",
    "    'filter': 'subreddit, selftext, title, created_utc',\n",
    "    'until': 1672960017,\n",
    "\n",
    "}"
   ]
  },
  {
   "cell_type": "code",
   "execution_count": 12,
   "id": "6dd927da-d144-4e84-8ae9-556a2f37caeb",
   "metadata": {},
   "outputs": [
    {
     "data": {
      "text/plain": [
       "200"
      ]
     },
     "execution_count": 12,
     "metadata": {},
     "output_type": "execute_result"
    }
   ],
   "source": [
    "res2 = requests.get(url, params)\n",
    "res2.status_code"
   ]
  },
  {
   "cell_type": "code",
   "execution_count": 13,
   "id": "882add9b-f2ab-43c9-b4ff-e202ffdd87ea",
   "metadata": {},
   "outputs": [],
   "source": [
    "data2 = res2.json()"
   ]
  },
  {
   "cell_type": "code",
   "execution_count": 14,
   "id": "19a6448f-edb5-4d88-bb65-67d632d8ee93",
   "metadata": {},
   "outputs": [],
   "source": [
    "posts2 = data2['data']"
   ]
  },
  {
   "cell_type": "code",
   "execution_count": 15,
   "id": "4b6e7c26-3b72-46f0-9299-23ea7bf4b63d",
   "metadata": {},
   "outputs": [
    {
     "data": {
      "text/plain": [
       "1000"
      ]
     },
     "execution_count": 15,
     "metadata": {},
     "output_type": "execute_result"
    }
   ],
   "source": [
    "len(posts2)"
   ]
  },
  {
   "cell_type": "code",
   "execution_count": 16,
   "id": "1eb5ce9b-fa73-4999-88a0-55f34e4c6ba5",
   "metadata": {},
   "outputs": [
    {
     "data": {
      "text/html": [
       "<div>\n",
       "<style scoped>\n",
       "    .dataframe tbody tr th:only-of-type {\n",
       "        vertical-align: middle;\n",
       "    }\n",
       "\n",
       "    .dataframe tbody tr th {\n",
       "        vertical-align: top;\n",
       "    }\n",
       "\n",
       "    .dataframe thead th {\n",
       "        text-align: right;\n",
       "    }\n",
       "</style>\n",
       "<table border=\"1\" class=\"dataframe\">\n",
       "  <thead>\n",
       "    <tr style=\"text-align: right;\">\n",
       "      <th></th>\n",
       "      <th>subreddit</th>\n",
       "      <th>selftext</th>\n",
       "      <th>title</th>\n",
       "      <th>created_utc</th>\n",
       "    </tr>\n",
       "  </thead>\n",
       "  <tbody>\n",
       "    <tr>\n",
       "      <th>995</th>\n",
       "      <td>personalfinance</td>\n",
       "      <td>I work as a copywriter making okay money in Ch...</td>\n",
       "      <td>Making ~$60k but have a lot of free time…</td>\n",
       "      <td>1672770559</td>\n",
       "    </tr>\n",
       "    <tr>\n",
       "      <th>996</th>\n",
       "      <td>personalfinance</td>\n",
       "      <td>I keep reading about the power of good habits ...</td>\n",
       "      <td>What is a daily habit that has helped you grea...</td>\n",
       "      <td>1672770509</td>\n",
       "    </tr>\n",
       "    <tr>\n",
       "      <th>997</th>\n",
       "      <td>personalfinance</td>\n",
       "      <td>I currently have a savings account through Wel...</td>\n",
       "      <td>Savings account advice</td>\n",
       "      <td>1672770320</td>\n",
       "    </tr>\n",
       "    <tr>\n",
       "      <th>998</th>\n",
       "      <td>personalfinance</td>\n",
       "      <td>[removed]</td>\n",
       "      <td>If you had $100k to invest right now, what wou...</td>\n",
       "      <td>1672770230</td>\n",
       "    </tr>\n",
       "    <tr>\n",
       "      <th>999</th>\n",
       "      <td>personalfinance</td>\n",
       "      <td>What other options would be good? My current s...</td>\n",
       "      <td>Is the PayPal savings account good? 3.75% APY....</td>\n",
       "      <td>1672770100</td>\n",
       "    </tr>\n",
       "  </tbody>\n",
       "</table>\n",
       "</div>"
      ],
      "text/plain": [
       "           subreddit                                           selftext  \\\n",
       "995  personalfinance  I work as a copywriter making okay money in Ch...   \n",
       "996  personalfinance  I keep reading about the power of good habits ...   \n",
       "997  personalfinance  I currently have a savings account through Wel...   \n",
       "998  personalfinance                                          [removed]   \n",
       "999  personalfinance  What other options would be good? My current s...   \n",
       "\n",
       "                                                 title  created_utc  \n",
       "995          Making ~$60k but have a lot of free time…   1672770559  \n",
       "996  What is a daily habit that has helped you grea...   1672770509  \n",
       "997                             Savings account advice   1672770320  \n",
       "998  If you had $100k to invest right now, what wou...   1672770230  \n",
       "999  Is the PayPal savings account good? 3.75% APY....   1672770100  "
      ]
     },
     "execution_count": 16,
     "metadata": {},
     "output_type": "execute_result"
    }
   ],
   "source": [
    "df2_pf_subs = pd.DataFrame(posts2)\n",
    "df2_pf_subs.tail()"
   ]
  },
  {
   "cell_type": "code",
   "execution_count": 17,
   "id": "6c0a3891-c40a-42a6-b874-aad0acb50c82",
   "metadata": {},
   "outputs": [],
   "source": [
    "url = 'https://api.pushshift.io/reddit/search/submission'\n",
    "params = {\n",
    "    'subreddit': 'personalfinance',\n",
    "    'limit': 1000,\n",
    "    'filter': 'subreddit, selftext, title, created_utc',\n",
    "    'until': 1672770100,\n",
    "\n",
    "}"
   ]
  },
  {
   "cell_type": "code",
   "execution_count": 18,
   "id": "b05af88d-5fc6-43ca-b57e-5bfb741cdfb4",
   "metadata": {},
   "outputs": [
    {
     "data": {
      "text/plain": [
       "200"
      ]
     },
     "execution_count": 18,
     "metadata": {},
     "output_type": "execute_result"
    }
   ],
   "source": [
    "res3 = requests.get(url, params)\n",
    "res3.status_code"
   ]
  },
  {
   "cell_type": "code",
   "execution_count": 19,
   "id": "8d637bdb-1bda-4803-937b-c5decb399222",
   "metadata": {},
   "outputs": [],
   "source": [
    "data3 = res3.json()"
   ]
  },
  {
   "cell_type": "code",
   "execution_count": 20,
   "id": "bb5ee51b-c116-4a72-93b3-eff58693a669",
   "metadata": {},
   "outputs": [],
   "source": [
    "posts3 = data3['data']"
   ]
  },
  {
   "cell_type": "code",
   "execution_count": 21,
   "id": "acc72bb7-2a44-47ae-84cc-4215c176d86d",
   "metadata": {},
   "outputs": [
    {
     "data": {
      "text/html": [
       "<div>\n",
       "<style scoped>\n",
       "    .dataframe tbody tr th:only-of-type {\n",
       "        vertical-align: middle;\n",
       "    }\n",
       "\n",
       "    .dataframe tbody tr th {\n",
       "        vertical-align: top;\n",
       "    }\n",
       "\n",
       "    .dataframe thead th {\n",
       "        text-align: right;\n",
       "    }\n",
       "</style>\n",
       "<table border=\"1\" class=\"dataframe\">\n",
       "  <thead>\n",
       "    <tr style=\"text-align: right;\">\n",
       "      <th></th>\n",
       "      <th>subreddit</th>\n",
       "      <th>selftext</th>\n",
       "      <th>title</th>\n",
       "      <th>created_utc</th>\n",
       "    </tr>\n",
       "  </thead>\n",
       "  <tbody>\n",
       "    <tr>\n",
       "      <th>995</th>\n",
       "      <td>personalfinance</td>\n",
       "      <td>I have an long forgotten SERPS pension that I ...</td>\n",
       "      <td>Withdrawing from a pension at 55</td>\n",
       "      <td>1672503931</td>\n",
       "    </tr>\n",
       "    <tr>\n",
       "      <th>996</th>\n",
       "      <td>personalfinance</td>\n",
       "      <td>I have I bonds in a gift box that we’re suppos...</td>\n",
       "      <td>I Bond in gift box, recipient deceased</td>\n",
       "      <td>1672503926</td>\n",
       "    </tr>\n",
       "    <tr>\n",
       "      <th>997</th>\n",
       "      <td>personalfinance</td>\n",
       "      <td>From what I've read, making a lump sum contrib...</td>\n",
       "      <td>lump sum roth ira payment</td>\n",
       "      <td>1672503841</td>\n",
       "    </tr>\n",
       "    <tr>\n",
       "      <th>998</th>\n",
       "      <td>personalfinance</td>\n",
       "      <td>Hello, I'm looking for a loan calculator with ...</td>\n",
       "      <td>Looking for a specific loan calculator, would ...</td>\n",
       "      <td>1672503786</td>\n",
       "    </tr>\n",
       "    <tr>\n",
       "      <th>999</th>\n",
       "      <td>personalfinance</td>\n",
       "      <td>I am trying to set up a system of spreadsheets...</td>\n",
       "      <td>Retirement planning template for dual earners,...</td>\n",
       "      <td>1672503704</td>\n",
       "    </tr>\n",
       "  </tbody>\n",
       "</table>\n",
       "</div>"
      ],
      "text/plain": [
       "           subreddit                                           selftext  \\\n",
       "995  personalfinance  I have an long forgotten SERPS pension that I ...   \n",
       "996  personalfinance  I have I bonds in a gift box that we’re suppos...   \n",
       "997  personalfinance  From what I've read, making a lump sum contrib...   \n",
       "998  personalfinance  Hello, I'm looking for a loan calculator with ...   \n",
       "999  personalfinance  I am trying to set up a system of spreadsheets...   \n",
       "\n",
       "                                                 title  created_utc  \n",
       "995                   Withdrawing from a pension at 55   1672503931  \n",
       "996             I Bond in gift box, recipient deceased   1672503926  \n",
       "997                          lump sum roth ira payment   1672503841  \n",
       "998  Looking for a specific loan calculator, would ...   1672503786  \n",
       "999  Retirement planning template for dual earners,...   1672503704  "
      ]
     },
     "execution_count": 21,
     "metadata": {},
     "output_type": "execute_result"
    }
   ],
   "source": [
    "df3_pf_subs = pd.DataFrame(posts3)\n",
    "df3_pf_subs.tail()"
   ]
  },
  {
   "cell_type": "code",
   "execution_count": 22,
   "id": "f4b25b36-d7b8-4ab0-93a8-8f8de517e486",
   "metadata": {},
   "outputs": [],
   "source": [
    "df_pf_subs = [df1_pf_subs, df2_pf_subs, df3_pf_subs] \n",
    "\n",
    "df_pf_total = pd.concat(df_pf_subs, ignore_index = True)"
   ]
  },
  {
   "cell_type": "code",
   "execution_count": 23,
   "id": "bf115ada-08ef-46fc-b14e-5c5b7764f763",
   "metadata": {},
   "outputs": [
    {
     "data": {
      "text/html": [
       "<div>\n",
       "<style scoped>\n",
       "    .dataframe tbody tr th:only-of-type {\n",
       "        vertical-align: middle;\n",
       "    }\n",
       "\n",
       "    .dataframe tbody tr th {\n",
       "        vertical-align: top;\n",
       "    }\n",
       "\n",
       "    .dataframe thead th {\n",
       "        text-align: right;\n",
       "    }\n",
       "</style>\n",
       "<table border=\"1\" class=\"dataframe\">\n",
       "  <thead>\n",
       "    <tr style=\"text-align: right;\">\n",
       "      <th></th>\n",
       "      <th>0</th>\n",
       "      <th>1</th>\n",
       "      <th>2</th>\n",
       "      <th>3</th>\n",
       "      <th>4</th>\n",
       "    </tr>\n",
       "  </thead>\n",
       "  <tbody>\n",
       "    <tr>\n",
       "      <th>subreddit</th>\n",
       "      <td>personalfinance</td>\n",
       "      <td>personalfinance</td>\n",
       "      <td>personalfinance</td>\n",
       "      <td>personalfinance</td>\n",
       "      <td>personalfinance</td>\n",
       "    </tr>\n",
       "    <tr>\n",
       "      <th>selftext</th>\n",
       "      <td>For years I put money into a deferred compensa...</td>\n",
       "      <td>So I’m 19 and currently in university And Ive ...</td>\n",
       "      <td>The other day I was turning right on a green i...</td>\n",
       "      <td>[removed]</td>\n",
       "      <td>[removed]</td>\n",
       "    </tr>\n",
       "    <tr>\n",
       "      <th>title</th>\n",
       "      <td>Percentage of paycheck into Deferred Comp plan...</td>\n",
       "      <td>19yrs old First Car (you know the drill)</td>\n",
       "      <td>Other driver ran into me, but I don't have ins...</td>\n",
       "      <td>Need help with a parent who’s reluctant to beg...</td>\n",
       "      <td>How do I buy a house? How do I qualify? What’s...</td>\n",
       "    </tr>\n",
       "    <tr>\n",
       "      <th>created_utc</th>\n",
       "      <td>1673558530</td>\n",
       "      <td>1673557919</td>\n",
       "      <td>1673557799</td>\n",
       "      <td>1673557711</td>\n",
       "      <td>1673557611</td>\n",
       "    </tr>\n",
       "  </tbody>\n",
       "</table>\n",
       "</div>"
      ],
      "text/plain": [
       "                                                             0  \\\n",
       "subreddit                                      personalfinance   \n",
       "selftext     For years I put money into a deferred compensa...   \n",
       "title        Percentage of paycheck into Deferred Comp plan...   \n",
       "created_utc                                         1673558530   \n",
       "\n",
       "                                                             1  \\\n",
       "subreddit                                      personalfinance   \n",
       "selftext     So I’m 19 and currently in university And Ive ...   \n",
       "title                 19yrs old First Car (you know the drill)   \n",
       "created_utc                                         1673557919   \n",
       "\n",
       "                                                             2  \\\n",
       "subreddit                                      personalfinance   \n",
       "selftext     The other day I was turning right on a green i...   \n",
       "title        Other driver ran into me, but I don't have ins...   \n",
       "created_utc                                         1673557799   \n",
       "\n",
       "                                                             3  \\\n",
       "subreddit                                      personalfinance   \n",
       "selftext                                             [removed]   \n",
       "title        Need help with a parent who’s reluctant to beg...   \n",
       "created_utc                                         1673557711   \n",
       "\n",
       "                                                             4  \n",
       "subreddit                                      personalfinance  \n",
       "selftext                                             [removed]  \n",
       "title        How do I buy a house? How do I qualify? What’s...  \n",
       "created_utc                                         1673557611  "
      ]
     },
     "execution_count": 23,
     "metadata": {},
     "output_type": "execute_result"
    }
   ],
   "source": [
    "df_pf_total.head().T"
   ]
  },
  {
   "cell_type": "code",
   "execution_count": 24,
   "id": "efc76ae8-921a-4842-96f0-326513b32e56",
   "metadata": {},
   "outputs": [
    {
     "data": {
      "text/plain": [
       "(3000, 4)"
      ]
     },
     "execution_count": 24,
     "metadata": {},
     "output_type": "execute_result"
    }
   ],
   "source": [
    "df_pf_total.shape"
   ]
  },
  {
   "cell_type": "code",
   "execution_count": 25,
   "id": "f1975684-a8c9-49b1-893e-8f498f40a9b7",
   "metadata": {},
   "outputs": [],
   "source": [
    "df_pf_total.to_csv('personal_finance.csv')"
   ]
  },
  {
   "cell_type": "markdown",
   "id": "4e009656-f912-4035-85e5-554af3206450",
   "metadata": {},
   "source": [
    "## Subreddit Financial Independence Submissions"
   ]
  },
  {
   "cell_type": "code",
   "execution_count": 26,
   "id": "a6baa552-fb8f-42ec-9212-14789af239c5",
   "metadata": {},
   "outputs": [],
   "source": [
    "url = 'https://api.pushshift.io/reddit/search/submission'\n",
    "params = {\n",
    "    'subreddit': 'financialindependence',\n",
    "    'limit': 1000,\n",
    "    'filter': 'subreddit, selftext, title, created_utc'\n",
    "\n",
    "}"
   ]
  },
  {
   "cell_type": "code",
   "execution_count": 27,
   "id": "065a2ad9-287c-4ed4-8079-271e461f516e",
   "metadata": {},
   "outputs": [
    {
     "data": {
      "text/plain": [
       "200"
      ]
     },
     "execution_count": 27,
     "metadata": {},
     "output_type": "execute_result"
    }
   ],
   "source": [
    "res4 = requests.get(url, params)\n",
    "res4.status_code"
   ]
  },
  {
   "cell_type": "code",
   "execution_count": 28,
   "id": "36552a96-34b3-4d31-8333-66f0e7d9d722",
   "metadata": {},
   "outputs": [],
   "source": [
    "data4 = res4.json()"
   ]
  },
  {
   "cell_type": "code",
   "execution_count": 29,
   "id": "978a807f-a3d7-44fc-9ff7-39d01a4804d1",
   "metadata": {},
   "outputs": [],
   "source": [
    "posts4 = data4['data']"
   ]
  },
  {
   "cell_type": "code",
   "execution_count": 30,
   "id": "90a8cb81-dabb-4428-935f-f2ffd6c07285",
   "metadata": {},
   "outputs": [
    {
     "data": {
      "text/plain": [
       "1000"
      ]
     },
     "execution_count": 30,
     "metadata": {},
     "output_type": "execute_result"
    }
   ],
   "source": [
    "len(posts4)"
   ]
  },
  {
   "cell_type": "code",
   "execution_count": 31,
   "id": "90b4ee37-9489-4601-b3ca-9fd23a7dbbbb",
   "metadata": {},
   "outputs": [
    {
     "data": {
      "text/html": [
       "<div>\n",
       "<style scoped>\n",
       "    .dataframe tbody tr th:only-of-type {\n",
       "        vertical-align: middle;\n",
       "    }\n",
       "\n",
       "    .dataframe tbody tr th {\n",
       "        vertical-align: top;\n",
       "    }\n",
       "\n",
       "    .dataframe thead th {\n",
       "        text-align: right;\n",
       "    }\n",
       "</style>\n",
       "<table border=\"1\" class=\"dataframe\">\n",
       "  <thead>\n",
       "    <tr style=\"text-align: right;\">\n",
       "      <th></th>\n",
       "      <th>subreddit</th>\n",
       "      <th>selftext</th>\n",
       "      <th>title</th>\n",
       "      <th>created_utc</th>\n",
       "    </tr>\n",
       "  </thead>\n",
       "  <tbody>\n",
       "    <tr>\n",
       "      <th>995</th>\n",
       "      <td>financialindependence</td>\n",
       "      <td>Daily FI Discussion Thread\\nDaily FI Discussio...</td>\n",
       "      <td>Checking in on r/financialindependence for the...</td>\n",
       "      <td>1669956487</td>\n",
       "    </tr>\n",
       "    <tr>\n",
       "      <th>996</th>\n",
       "      <td>financialindependence</td>\n",
       "      <td>[removed]</td>\n",
       "      <td>Declaring myself a millionaire.</td>\n",
       "      <td>1669956254</td>\n",
       "    </tr>\n",
       "    <tr>\n",
       "      <th>997</th>\n",
       "      <td>financialindependence</td>\n",
       "      <td>I have to move the iras I have to 401k to avoi...</td>\n",
       "      <td>Which companies allow moving ira into 401k</td>\n",
       "      <td>1669953731</td>\n",
       "    </tr>\n",
       "    <tr>\n",
       "      <th>998</th>\n",
       "      <td>financialindependence</td>\n",
       "      <td>[removed]</td>\n",
       "      <td>What's the worst Financial Mistake that you ha...</td>\n",
       "      <td>1669952851</td>\n",
       "    </tr>\n",
       "    <tr>\n",
       "      <th>999</th>\n",
       "      <td>financialindependence</td>\n",
       "      <td>While it is illegal to log into someone else's...</td>\n",
       "      <td>Is it Illegal to Log Into Someone's Instagram ...</td>\n",
       "      <td>1669949067</td>\n",
       "    </tr>\n",
       "  </tbody>\n",
       "</table>\n",
       "</div>"
      ],
      "text/plain": [
       "                 subreddit                                           selftext  \\\n",
       "995  financialindependence  Daily FI Discussion Thread\\nDaily FI Discussio...   \n",
       "996  financialindependence                                          [removed]   \n",
       "997  financialindependence  I have to move the iras I have to 401k to avoi...   \n",
       "998  financialindependence                                          [removed]   \n",
       "999  financialindependence  While it is illegal to log into someone else's...   \n",
       "\n",
       "                                                 title  created_utc  \n",
       "995  Checking in on r/financialindependence for the...   1669956487  \n",
       "996                    Declaring myself a millionaire.   1669956254  \n",
       "997         Which companies allow moving ira into 401k   1669953731  \n",
       "998  What's the worst Financial Mistake that you ha...   1669952851  \n",
       "999  Is it Illegal to Log Into Someone's Instagram ...   1669949067  "
      ]
     },
     "execution_count": 31,
     "metadata": {},
     "output_type": "execute_result"
    }
   ],
   "source": [
    "df1_fi_subs = pd.DataFrame(posts4)\n",
    "df1_fi_subs.tail()"
   ]
  },
  {
   "cell_type": "code",
   "execution_count": null,
   "id": "0f5e2fcd-97ae-481c-bdf3-fc3995218c52",
   "metadata": {},
   "outputs": [],
   "source": []
  },
  {
   "cell_type": "code",
   "execution_count": 32,
   "id": "d7b72c9c-1a13-482a-969f-b916453cff27",
   "metadata": {},
   "outputs": [],
   "source": [
    "url = 'https://api.pushshift.io/reddit/search/submission'\n",
    "params = {\n",
    "    'subreddit': 'financialindependence',\n",
    "    'limit': 1000,\n",
    "    'filter': 'subreddit, selftext, title, created_utc',\n",
    "    'until': 1669484479,\n",
    "\n",
    "}"
   ]
  },
  {
   "cell_type": "code",
   "execution_count": 33,
   "id": "84b94c04-c3b5-4a37-a02f-987c8b4aea64",
   "metadata": {},
   "outputs": [
    {
     "data": {
      "text/plain": [
       "200"
      ]
     },
     "execution_count": 33,
     "metadata": {},
     "output_type": "execute_result"
    }
   ],
   "source": [
    "res5 = requests.get(url, params)\n",
    "res5.status_code"
   ]
  },
  {
   "cell_type": "code",
   "execution_count": 34,
   "id": "850df746-9377-4f5e-8a7d-51dda98972b6",
   "metadata": {},
   "outputs": [],
   "source": [
    "data5 = res5.json()"
   ]
  },
  {
   "cell_type": "code",
   "execution_count": 35,
   "id": "fdc2f66c-834b-45e7-afd2-4f3c0b693272",
   "metadata": {},
   "outputs": [],
   "source": [
    "posts5 = data5['data']"
   ]
  },
  {
   "cell_type": "code",
   "execution_count": 36,
   "id": "530b0b01-9211-49b8-ae94-e73f803f95c9",
   "metadata": {},
   "outputs": [
    {
     "data": {
      "text/plain": [
       "440"
      ]
     },
     "execution_count": 36,
     "metadata": {},
     "output_type": "execute_result"
    }
   ],
   "source": [
    "len(posts5)"
   ]
  },
  {
   "cell_type": "code",
   "execution_count": 37,
   "id": "83fc7dea-84fa-4f0a-b81f-6cfa1af63659",
   "metadata": {},
   "outputs": [
    {
     "data": {
      "text/html": [
       "<div>\n",
       "<style scoped>\n",
       "    .dataframe tbody tr th:only-of-type {\n",
       "        vertical-align: middle;\n",
       "    }\n",
       "\n",
       "    .dataframe tbody tr th {\n",
       "        vertical-align: top;\n",
       "    }\n",
       "\n",
       "    .dataframe thead th {\n",
       "        text-align: right;\n",
       "    }\n",
       "</style>\n",
       "<table border=\"1\" class=\"dataframe\">\n",
       "  <thead>\n",
       "    <tr style=\"text-align: right;\">\n",
       "      <th></th>\n",
       "      <th>subreddit</th>\n",
       "      <th>selftext</th>\n",
       "      <th>title</th>\n",
       "      <th>created_utc</th>\n",
       "    </tr>\n",
       "  </thead>\n",
       "  <tbody>\n",
       "    <tr>\n",
       "      <th>435</th>\n",
       "      <td>financialindependence</td>\n",
       "      <td>[removed]</td>\n",
       "      <td>Should I start paying down debt or keep invest...</td>\n",
       "      <td>1667521316</td>\n",
       "    </tr>\n",
       "    <tr>\n",
       "      <th>436</th>\n",
       "      <td>financialindependence</td>\n",
       "      <td>[removed]</td>\n",
       "      <td>18yo in need of financial advice.</td>\n",
       "      <td>1667519274</td>\n",
       "    </tr>\n",
       "    <tr>\n",
       "      <th>437</th>\n",
       "      <td>financialindependence</td>\n",
       "      <td>[removed]</td>\n",
       "      <td>Stop putting into 403 B</td>\n",
       "      <td>1667518247</td>\n",
       "    </tr>\n",
       "    <tr>\n",
       "      <th>438</th>\n",
       "      <td>financialindependence</td>\n",
       "      <td>[removed]</td>\n",
       "      <td>Como financiar um carro sem juros abusivos?</td>\n",
       "      <td>1667515619</td>\n",
       "    </tr>\n",
       "    <tr>\n",
       "      <th>439</th>\n",
       "      <td>financialindependence</td>\n",
       "      <td>[removed]</td>\n",
       "      <td>What the best way to start finding out about f...</td>\n",
       "      <td>1667508491</td>\n",
       "    </tr>\n",
       "  </tbody>\n",
       "</table>\n",
       "</div>"
      ],
      "text/plain": [
       "                 subreddit   selftext  \\\n",
       "435  financialindependence  [removed]   \n",
       "436  financialindependence  [removed]   \n",
       "437  financialindependence  [removed]   \n",
       "438  financialindependence  [removed]   \n",
       "439  financialindependence  [removed]   \n",
       "\n",
       "                                                 title  created_utc  \n",
       "435  Should I start paying down debt or keep invest...   1667521316  \n",
       "436                  18yo in need of financial advice.   1667519274  \n",
       "437                            Stop putting into 403 B   1667518247  \n",
       "438        Como financiar um carro sem juros abusivos?   1667515619  \n",
       "439  What the best way to start finding out about f...   1667508491  "
      ]
     },
     "execution_count": 37,
     "metadata": {},
     "output_type": "execute_result"
    }
   ],
   "source": [
    "df2_fi_subs = pd.DataFrame(posts5)\n",
    "df2_fi_subs.tail()"
   ]
  },
  {
   "cell_type": "code",
   "execution_count": 38,
   "id": "14146ad5-3442-4edf-8bd0-76b73e298161",
   "metadata": {},
   "outputs": [
    {
     "data": {
      "text/html": [
       "<div>\n",
       "<style scoped>\n",
       "    .dataframe tbody tr th:only-of-type {\n",
       "        vertical-align: middle;\n",
       "    }\n",
       "\n",
       "    .dataframe tbody tr th {\n",
       "        vertical-align: top;\n",
       "    }\n",
       "\n",
       "    .dataframe thead th {\n",
       "        text-align: right;\n",
       "    }\n",
       "</style>\n",
       "<table border=\"1\" class=\"dataframe\">\n",
       "  <thead>\n",
       "    <tr style=\"text-align: right;\">\n",
       "      <th></th>\n",
       "      <th>subreddit</th>\n",
       "      <th>selftext</th>\n",
       "      <th>title</th>\n",
       "      <th>created_utc</th>\n",
       "    </tr>\n",
       "  </thead>\n",
       "  <tbody>\n",
       "    <tr>\n",
       "      <th>0</th>\n",
       "      <td>financialindependence</td>\n",
       "      <td>[removed]</td>\n",
       "      <td>Trying to rebuild your credit check out this app</td>\n",
       "      <td>1669478185</td>\n",
       "    </tr>\n",
       "    <tr>\n",
       "      <th>1</th>\n",
       "      <td>financialindependence</td>\n",
       "      <td>Sell some stocks (life savings) for down payme...</td>\n",
       "      <td>What’s the smarter decision?</td>\n",
       "      <td>1669477538</td>\n",
       "    </tr>\n",
       "    <tr>\n",
       "      <th>2</th>\n",
       "      <td>financialindependence</td>\n",
       "      <td>I quit my career of 5 years this past October ...</td>\n",
       "      <td>Career change need advice!</td>\n",
       "      <td>1669477023</td>\n",
       "    </tr>\n",
       "    <tr>\n",
       "      <th>3</th>\n",
       "      <td>financialindependence</td>\n",
       "      <td>The rules in this sub are ridiculous. It’s ver...</td>\n",
       "      <td>Change mod rules</td>\n",
       "      <td>1669473751</td>\n",
       "    </tr>\n",
       "    <tr>\n",
       "      <th>4</th>\n",
       "      <td>financialindependence</td>\n",
       "      <td>[removed]</td>\n",
       "      <td>When to Roll a Covered Call Option on a Divide...</td>\n",
       "      <td>1669469646</td>\n",
       "    </tr>\n",
       "  </tbody>\n",
       "</table>\n",
       "</div>"
      ],
      "text/plain": [
       "               subreddit                                           selftext  \\\n",
       "0  financialindependence                                          [removed]   \n",
       "1  financialindependence  Sell some stocks (life savings) for down payme...   \n",
       "2  financialindependence  I quit my career of 5 years this past October ...   \n",
       "3  financialindependence  The rules in this sub are ridiculous. It’s ver...   \n",
       "4  financialindependence                                          [removed]   \n",
       "\n",
       "                                               title  created_utc  \n",
       "0   Trying to rebuild your credit check out this app   1669478185  \n",
       "1                       What’s the smarter decision?   1669477538  \n",
       "2                         Career change need advice!   1669477023  \n",
       "3                                   Change mod rules   1669473751  \n",
       "4  When to Roll a Covered Call Option on a Divide...   1669469646  "
      ]
     },
     "execution_count": 38,
     "metadata": {},
     "output_type": "execute_result"
    }
   ],
   "source": [
    "df2_fi_subs.head()"
   ]
  },
  {
   "cell_type": "code",
   "execution_count": 39,
   "id": "d00ec92a-512a-44ab-bc14-2239ddb4f817",
   "metadata": {},
   "outputs": [],
   "source": [
    "df_fi_subs = [df1_fi_subs, df2_fi_subs] \n",
    "\n",
    "df_fi_total = pd.concat(df_fi_subs, ignore_index = True)"
   ]
  },
  {
   "cell_type": "code",
   "execution_count": 40,
   "id": "a96c3360-683a-44a4-b18b-4cd03561b320",
   "metadata": {},
   "outputs": [
    {
     "data": {
      "text/html": [
       "<div>\n",
       "<style scoped>\n",
       "    .dataframe tbody tr th:only-of-type {\n",
       "        vertical-align: middle;\n",
       "    }\n",
       "\n",
       "    .dataframe tbody tr th {\n",
       "        vertical-align: top;\n",
       "    }\n",
       "\n",
       "    .dataframe thead th {\n",
       "        text-align: right;\n",
       "    }\n",
       "</style>\n",
       "<table border=\"1\" class=\"dataframe\">\n",
       "  <thead>\n",
       "    <tr style=\"text-align: right;\">\n",
       "      <th></th>\n",
       "      <th>0</th>\n",
       "      <th>1</th>\n",
       "      <th>2</th>\n",
       "      <th>3</th>\n",
       "      <th>4</th>\n",
       "    </tr>\n",
       "  </thead>\n",
       "  <tbody>\n",
       "    <tr>\n",
       "      <th>subreddit</th>\n",
       "      <td>financialindependence</td>\n",
       "      <td>financialindependence</td>\n",
       "      <td>financialindependence</td>\n",
       "      <td>financialindependence</td>\n",
       "      <td>financialindependence</td>\n",
       "    </tr>\n",
       "    <tr>\n",
       "      <th>selftext</th>\n",
       "      <td>I know being a single 29M at 100k is not such ...</td>\n",
       "      <td>[removed]</td>\n",
       "      <td>The other day I made a [similar post](https://...</td>\n",
       "      <td>[removed]</td>\n",
       "      <td>Longtime lurker here. I don't know if people l...</td>\n",
       "    </tr>\n",
       "    <tr>\n",
       "      <th>title</th>\n",
       "      <td>29M graduated in 2019 and I am 1k away from ne...</td>\n",
       "      <td>Investing for the Future Vs Enjoying Life Now</td>\n",
       "      <td>Preparing to RE in event of terminal diagnosis</td>\n",
       "      <td>I want some tips to start my journey to FI whi...</td>\n",
       "      <td>Journey to the first $100k</td>\n",
       "    </tr>\n",
       "    <tr>\n",
       "      <th>created_utc</th>\n",
       "      <td>1673557670</td>\n",
       "      <td>1673553070</td>\n",
       "      <td>1673547665</td>\n",
       "      <td>1673547294</td>\n",
       "      <td>1673544231</td>\n",
       "    </tr>\n",
       "  </tbody>\n",
       "</table>\n",
       "</div>"
      ],
      "text/plain": [
       "                                                             0  \\\n",
       "subreddit                                financialindependence   \n",
       "selftext     I know being a single 29M at 100k is not such ...   \n",
       "title        29M graduated in 2019 and I am 1k away from ne...   \n",
       "created_utc                                         1673557670   \n",
       "\n",
       "                                                         1  \\\n",
       "subreddit                            financialindependence   \n",
       "selftext                                         [removed]   \n",
       "title        Investing for the Future Vs Enjoying Life Now   \n",
       "created_utc                                     1673553070   \n",
       "\n",
       "                                                             2  \\\n",
       "subreddit                                financialindependence   \n",
       "selftext     The other day I made a [similar post](https://...   \n",
       "title           Preparing to RE in event of terminal diagnosis   \n",
       "created_utc                                         1673547665   \n",
       "\n",
       "                                                             3  \\\n",
       "subreddit                                financialindependence   \n",
       "selftext                                             [removed]   \n",
       "title        I want some tips to start my journey to FI whi...   \n",
       "created_utc                                         1673547294   \n",
       "\n",
       "                                                             4  \n",
       "subreddit                                financialindependence  \n",
       "selftext     Longtime lurker here. I don't know if people l...  \n",
       "title                               Journey to the first $100k  \n",
       "created_utc                                         1673544231  "
      ]
     },
     "execution_count": 40,
     "metadata": {},
     "output_type": "execute_result"
    }
   ],
   "source": [
    "df_fi_total.head().T"
   ]
  },
  {
   "cell_type": "code",
   "execution_count": 41,
   "id": "bc2f91ef-1c89-43e2-9f3c-00858e9eb290",
   "metadata": {},
   "outputs": [
    {
     "data": {
      "text/plain": [
       "(1440, 4)"
      ]
     },
     "execution_count": 41,
     "metadata": {},
     "output_type": "execute_result"
    }
   ],
   "source": [
    "df_fi_total.shape"
   ]
  },
  {
   "cell_type": "code",
   "execution_count": 43,
   "id": "3c1b95fc-fd05-4ab9-8b58-d8ac0ecdb656",
   "metadata": {},
   "outputs": [],
   "source": [
    "df_fi_total.to_csv('financial_independence.csv')"
   ]
  },
  {
   "cell_type": "code",
   "execution_count": null,
   "id": "4a764727-159e-49d8-a8af-3564af183fbe",
   "metadata": {},
   "outputs": [],
   "source": []
  }
 ],
 "metadata": {
  "kernelspec": {
   "display_name": "Python 3 (ipykernel)",
   "language": "python",
   "name": "python3"
  },
  "language_info": {
   "codemirror_mode": {
    "name": "ipython",
    "version": 3
   },
   "file_extension": ".py",
   "mimetype": "text/x-python",
   "name": "python",
   "nbconvert_exporter": "python",
   "pygments_lexer": "ipython3",
   "version": "3.9.13"
  }
 },
 "nbformat": 4,
 "nbformat_minor": 5
}
