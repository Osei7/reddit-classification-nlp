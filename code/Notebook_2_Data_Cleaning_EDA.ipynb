{
 "cells": [
  {
   "cell_type": "code",
   "execution_count": 1,
   "id": "cd2809f4-32ee-4c21-b9c2-3bef93340b4f",
   "metadata": {},
   "outputs": [],
   "source": [
    "# imports\n",
    "\n",
    "import pandas as pd\n",
    "import matplotlib.pyplot as plt\n",
    "\n",
    "#sklearn\n",
    "from sklearn.model_selection import train_test_split, GridSearchCV\n",
    "from sklearn.pipeline import Pipeline\n",
    "from sklearn.naive_bayes import MultinomialNB\n",
    "from sklearn.linear_model import LogisticRegression, LinearRegression\n",
    "from sklearn.metrics import confusion_matrix, ConfusionMatrixDisplay\n",
    "\n",
    "# Import CountVectorizer and TFIDFVectorizer from feature_extraction.text.\n",
    "from sklearn.feature_extraction.text import CountVectorizer, TfidfVectorizer\n",
    "from nltk.tokenize import sent_tokenize, word_tokenize, RegexpTokenizer\n",
    "\n",
    "# NLP\n",
    "from nltk.corpus import stopwords\n",
    "from nltk.stem import WordNetLemmatizer\n",
    "from nltk.tokenize import word_tokenize\n",
    "\n",
    "#classifiers\n",
    "from sklearn.neighbors import KNeighborsClassifier\n",
    "from sklearn.preprocessing import StandardScaler\n",
    "\n",
    "from sklearn.tree import DecisionTreeClassifier\n",
    "from sklearn.ensemble import RandomForestClassifier, AdaBoostClassifier, StackingClassifier"
   ]
  },
  {
   "cell_type": "markdown",
   "id": "04b5e8d2-7ad5-40a5-b096-05c5e1ce2a61",
   "metadata": {},
   "source": [
    "## Cleaning / EDA"
   ]
  },
  {
   "cell_type": "code",
   "execution_count": 2,
   "id": "6c7c7f69-c240-40c5-a8f5-eb85d5627413",
   "metadata": {},
   "outputs": [
    {
     "data": {
      "text/html": [
       "<div>\n",
       "<style scoped>\n",
       "    .dataframe tbody tr th:only-of-type {\n",
       "        vertical-align: middle;\n",
       "    }\n",
       "\n",
       "    .dataframe tbody tr th {\n",
       "        vertical-align: top;\n",
       "    }\n",
       "\n",
       "    .dataframe thead th {\n",
       "        text-align: right;\n",
       "    }\n",
       "</style>\n",
       "<table border=\"1\" class=\"dataframe\">\n",
       "  <thead>\n",
       "    <tr style=\"text-align: right;\">\n",
       "      <th></th>\n",
       "      <th>subreddit</th>\n",
       "      <th>selftext</th>\n",
       "      <th>title</th>\n",
       "      <th>created_utc</th>\n",
       "    </tr>\n",
       "  </thead>\n",
       "  <tbody>\n",
       "    <tr>\n",
       "      <th>0</th>\n",
       "      <td>personalfinance</td>\n",
       "      <td>For years I put money into a deferred compensa...</td>\n",
       "      <td>Percentage of paycheck into Deferred Comp plan...</td>\n",
       "      <td>1673558530</td>\n",
       "    </tr>\n",
       "    <tr>\n",
       "      <th>1</th>\n",
       "      <td>personalfinance</td>\n",
       "      <td>So I’m 19 and currently in university And Ive ...</td>\n",
       "      <td>19yrs old First Car (you know the drill)</td>\n",
       "      <td>1673557919</td>\n",
       "    </tr>\n",
       "    <tr>\n",
       "      <th>2</th>\n",
       "      <td>personalfinance</td>\n",
       "      <td>The other day I was turning right on a green i...</td>\n",
       "      <td>Other driver ran into me, but I don't have ins...</td>\n",
       "      <td>1673557799</td>\n",
       "    </tr>\n",
       "    <tr>\n",
       "      <th>3</th>\n",
       "      <td>personalfinance</td>\n",
       "      <td>[removed]</td>\n",
       "      <td>Need help with a parent who’s reluctant to beg...</td>\n",
       "      <td>1673557711</td>\n",
       "    </tr>\n",
       "    <tr>\n",
       "      <th>4</th>\n",
       "      <td>personalfinance</td>\n",
       "      <td>[removed]</td>\n",
       "      <td>How do I buy a house? How do I qualify? What’s...</td>\n",
       "      <td>1673557611</td>\n",
       "    </tr>\n",
       "  </tbody>\n",
       "</table>\n",
       "</div>"
      ],
      "text/plain": [
       "         subreddit                                           selftext  \\\n",
       "0  personalfinance  For years I put money into a deferred compensa...   \n",
       "1  personalfinance  So I’m 19 and currently in university And Ive ...   \n",
       "2  personalfinance  The other day I was turning right on a green i...   \n",
       "3  personalfinance                                          [removed]   \n",
       "4  personalfinance                                          [removed]   \n",
       "\n",
       "                                               title  created_utc  \n",
       "0  Percentage of paycheck into Deferred Comp plan...   1673558530  \n",
       "1           19yrs old First Car (you know the drill)   1673557919  \n",
       "2  Other driver ran into me, but I don't have ins...   1673557799  \n",
       "3  Need help with a parent who’s reluctant to beg...   1673557711  \n",
       "4  How do I buy a house? How do I qualify? What’s...   1673557611  "
      ]
     },
     "execution_count": 2,
     "metadata": {},
     "output_type": "execute_result"
    }
   ],
   "source": [
    "dfpf = pd.read_csv('./data/personal_finance.csv', index_col = 0)\n",
    "dfpf.head()"
   ]
  },
  {
   "cell_type": "code",
   "execution_count": 3,
   "id": "0c85d391-1f3d-4904-b91d-2af9e5f2f69f",
   "metadata": {},
   "outputs": [
    {
     "data": {
      "text/plain": [
       "subreddit       0\n",
       "selftext       22\n",
       "title           0\n",
       "created_utc     0\n",
       "dtype: int64"
      ]
     },
     "execution_count": 3,
     "metadata": {},
     "output_type": "execute_result"
    }
   ],
   "source": [
    "dfpf.isnull().sum()"
   ]
  },
  {
   "cell_type": "code",
   "execution_count": 4,
   "id": "8bce59a2-c443-48d6-98da-ebb23e17ff8a",
   "metadata": {},
   "outputs": [
    {
     "data": {
      "text/plain": [
       "subreddit      0\n",
       "selftext       0\n",
       "title          0\n",
       "created_utc    0\n",
       "dtype: int64"
      ]
     },
     "execution_count": 4,
     "metadata": {},
     "output_type": "execute_result"
    }
   ],
   "source": [
    "dfpf.dropna(inplace = True)\n",
    "dfpf.isnull().sum()"
   ]
  },
  {
   "cell_type": "code",
   "execution_count": 5,
   "id": "c9a0cbff-90aa-4f85-bfcb-234fd62fd7b0",
   "metadata": {},
   "outputs": [
    {
     "data": {
      "text/plain": [
       "(2978, 4)"
      ]
     },
     "execution_count": 5,
     "metadata": {},
     "output_type": "execute_result"
    }
   ],
   "source": [
    "dfpf.shape"
   ]
  },
  {
   "cell_type": "code",
   "execution_count": 6,
   "id": "78d6a9b2-0301-40dd-899b-f687398cd9e2",
   "metadata": {},
   "outputs": [
    {
     "name": "stdout",
     "output_type": "stream",
     "text": [
      "<class 'pandas.core.frame.DataFrame'>\n",
      "Int64Index: 2978 entries, 0 to 2999\n",
      "Data columns (total 4 columns):\n",
      " #   Column       Non-Null Count  Dtype \n",
      "---  ------       --------------  ----- \n",
      " 0   subreddit    2978 non-null   object\n",
      " 1   selftext     2978 non-null   object\n",
      " 2   title        2978 non-null   object\n",
      " 3   created_utc  2978 non-null   int64 \n",
      "dtypes: int64(1), object(3)\n",
      "memory usage: 116.3+ KB\n"
     ]
    }
   ],
   "source": [
    "dfpf.info()"
   ]
  },
  {
   "cell_type": "code",
   "execution_count": 7,
   "id": "a8d548ed-e456-42da-baf4-e89e06e570c2",
   "metadata": {},
   "outputs": [
    {
     "data": {
      "text/plain": [
       "Father left house in trust, but with stipulation wife can remain in house. Advice needed.    3\n",
       "how much should i have in 401k at 25 years old?                                              2\n",
       "35[F4M] Feeling lonely looking for someone to talk to ❤️ ❤️ US only 👌                        2\n",
       "contributing to a 529 college savings plan through work or personal?                         2\n",
       "Which house for RENT should I choose?                                                        2\n",
       "                                                                                            ..\n",
       "confused - EIC tax credit                                                                    1\n",
       "Edward Jones Required Annual Review                                                          1\n",
       "Should I resign now?                                                                         1\n",
       "How much to save a month?                                                                    1\n",
       "Retirement planning template for dual earners, different ages ?                              1\n",
       "Name: title, Length: 2960, dtype: int64"
      ]
     },
     "execution_count": 7,
     "metadata": {},
     "output_type": "execute_result"
    }
   ],
   "source": [
    "dfpf['title'].value_counts()"
   ]
  },
  {
   "cell_type": "code",
   "execution_count": 8,
   "id": "b635093b-4a24-4b5b-92dd-0ec614b13c9d",
   "metadata": {},
   "outputs": [
    {
     "data": {
      "text/plain": [
       "Index(['subreddit', 'selftext', 'title', 'created_utc'], dtype='object')"
      ]
     },
     "execution_count": 8,
     "metadata": {},
     "output_type": "execute_result"
    }
   ],
   "source": [
    "dfpf.columns"
   ]
  },
  {
   "cell_type": "code",
   "execution_count": null,
   "id": "b2a29247-0040-4426-b536-f80e6861db3f",
   "metadata": {},
   "outputs": [],
   "source": []
  },
  {
   "cell_type": "markdown",
   "id": "59ca77dc-e064-40d0-9320-52fd8155ee64",
   "metadata": {},
   "source": [
    "### financial independence dataframe"
   ]
  },
  {
   "cell_type": "code",
   "execution_count": 9,
   "id": "06a1fc64-b66c-4bac-860e-00069eaa0565",
   "metadata": {},
   "outputs": [
    {
     "data": {
      "text/html": [
       "<div>\n",
       "<style scoped>\n",
       "    .dataframe tbody tr th:only-of-type {\n",
       "        vertical-align: middle;\n",
       "    }\n",
       "\n",
       "    .dataframe tbody tr th {\n",
       "        vertical-align: top;\n",
       "    }\n",
       "\n",
       "    .dataframe thead th {\n",
       "        text-align: right;\n",
       "    }\n",
       "</style>\n",
       "<table border=\"1\" class=\"dataframe\">\n",
       "  <thead>\n",
       "    <tr style=\"text-align: right;\">\n",
       "      <th></th>\n",
       "      <th>subreddit</th>\n",
       "      <th>selftext</th>\n",
       "      <th>title</th>\n",
       "      <th>created_utc</th>\n",
       "    </tr>\n",
       "  </thead>\n",
       "  <tbody>\n",
       "    <tr>\n",
       "      <th>0</th>\n",
       "      <td>financialindependence</td>\n",
       "      <td>I know being a single 29M at 100k is not such ...</td>\n",
       "      <td>29M graduated in 2019 and I am 1k away from ne...</td>\n",
       "      <td>1673557670</td>\n",
       "    </tr>\n",
       "    <tr>\n",
       "      <th>1</th>\n",
       "      <td>financialindependence</td>\n",
       "      <td>[removed]</td>\n",
       "      <td>Investing for the Future Vs Enjoying Life Now</td>\n",
       "      <td>1673553070</td>\n",
       "    </tr>\n",
       "    <tr>\n",
       "      <th>2</th>\n",
       "      <td>financialindependence</td>\n",
       "      <td>The other day I made a [similar post](https://...</td>\n",
       "      <td>Preparing to RE in event of terminal diagnosis</td>\n",
       "      <td>1673547665</td>\n",
       "    </tr>\n",
       "    <tr>\n",
       "      <th>3</th>\n",
       "      <td>financialindependence</td>\n",
       "      <td>[removed]</td>\n",
       "      <td>I want some tips to start my journey to FI whi...</td>\n",
       "      <td>1673547294</td>\n",
       "    </tr>\n",
       "    <tr>\n",
       "      <th>4</th>\n",
       "      <td>financialindependence</td>\n",
       "      <td>Longtime lurker here. I don't know if people l...</td>\n",
       "      <td>Journey to the first $100k</td>\n",
       "      <td>1673544231</td>\n",
       "    </tr>\n",
       "  </tbody>\n",
       "</table>\n",
       "</div>"
      ],
      "text/plain": [
       "               subreddit                                           selftext  \\\n",
       "0  financialindependence  I know being a single 29M at 100k is not such ...   \n",
       "1  financialindependence                                          [removed]   \n",
       "2  financialindependence  The other day I made a [similar post](https://...   \n",
       "3  financialindependence                                          [removed]   \n",
       "4  financialindependence  Longtime lurker here. I don't know if people l...   \n",
       "\n",
       "                                               title  created_utc  \n",
       "0  29M graduated in 2019 and I am 1k away from ne...   1673557670  \n",
       "1      Investing for the Future Vs Enjoying Life Now   1673553070  \n",
       "2     Preparing to RE in event of terminal diagnosis   1673547665  \n",
       "3  I want some tips to start my journey to FI whi...   1673547294  \n",
       "4                         Journey to the first $100k   1673544231  "
      ]
     },
     "execution_count": 9,
     "metadata": {},
     "output_type": "execute_result"
    }
   ],
   "source": [
    "dffi = pd.read_csv('./data/financial_independence.csv', index_col = 0)\n",
    "dffi.head()"
   ]
  },
  {
   "cell_type": "code",
   "execution_count": 10,
   "id": "5065fd01-b888-43ad-9978-c980e2c32300",
   "metadata": {},
   "outputs": [
    {
     "data": {
      "text/plain": [
       "subreddit      0\n",
       "selftext       0\n",
       "title          0\n",
       "created_utc    0\n",
       "dtype: int64"
      ]
     },
     "execution_count": 10,
     "metadata": {},
     "output_type": "execute_result"
    }
   ],
   "source": [
    "dffi.isnull().sum()"
   ]
  },
  {
   "cell_type": "code",
   "execution_count": 11,
   "id": "720bbd13-684d-4fa0-b3d3-e9e263b0f067",
   "metadata": {},
   "outputs": [
    {
     "data": {
      "text/plain": [
       "(1440, 4)"
      ]
     },
     "execution_count": 11,
     "metadata": {},
     "output_type": "execute_result"
    }
   ],
   "source": [
    "dffi.shape"
   ]
  },
  {
   "cell_type": "markdown",
   "id": "32c06bbc-e16c-42a8-9a77-6d4519e550e7",
   "metadata": {},
   "source": [
    "* joining the dataframes together"
   ]
  },
  {
   "cell_type": "code",
   "execution_count": 12,
   "id": "7cc567e5-b098-4ed5-9222-caac402ebdd1",
   "metadata": {},
   "outputs": [
    {
     "data": {
      "text/html": [
       "<div>\n",
       "<style scoped>\n",
       "    .dataframe tbody tr th:only-of-type {\n",
       "        vertical-align: middle;\n",
       "    }\n",
       "\n",
       "    .dataframe tbody tr th {\n",
       "        vertical-align: top;\n",
       "    }\n",
       "\n",
       "    .dataframe thead th {\n",
       "        text-align: right;\n",
       "    }\n",
       "</style>\n",
       "<table border=\"1\" class=\"dataframe\">\n",
       "  <thead>\n",
       "    <tr style=\"text-align: right;\">\n",
       "      <th></th>\n",
       "      <th>subreddit</th>\n",
       "      <th>selftext</th>\n",
       "      <th>title</th>\n",
       "      <th>created_utc</th>\n",
       "    </tr>\n",
       "  </thead>\n",
       "  <tbody>\n",
       "    <tr>\n",
       "      <th>0</th>\n",
       "      <td>personalfinance</td>\n",
       "      <td>For years I put money into a deferred compensa...</td>\n",
       "      <td>Percentage of paycheck into Deferred Comp plan...</td>\n",
       "      <td>1673558530</td>\n",
       "    </tr>\n",
       "    <tr>\n",
       "      <th>1</th>\n",
       "      <td>personalfinance</td>\n",
       "      <td>So I’m 19 and currently in university And Ive ...</td>\n",
       "      <td>19yrs old First Car (you know the drill)</td>\n",
       "      <td>1673557919</td>\n",
       "    </tr>\n",
       "    <tr>\n",
       "      <th>2</th>\n",
       "      <td>personalfinance</td>\n",
       "      <td>The other day I was turning right on a green i...</td>\n",
       "      <td>Other driver ran into me, but I don't have ins...</td>\n",
       "      <td>1673557799</td>\n",
       "    </tr>\n",
       "    <tr>\n",
       "      <th>3</th>\n",
       "      <td>personalfinance</td>\n",
       "      <td>[removed]</td>\n",
       "      <td>Need help with a parent who’s reluctant to beg...</td>\n",
       "      <td>1673557711</td>\n",
       "    </tr>\n",
       "    <tr>\n",
       "      <th>4</th>\n",
       "      <td>personalfinance</td>\n",
       "      <td>[removed]</td>\n",
       "      <td>How do I buy a house? How do I qualify? What’s...</td>\n",
       "      <td>1673557611</td>\n",
       "    </tr>\n",
       "  </tbody>\n",
       "</table>\n",
       "</div>"
      ],
      "text/plain": [
       "         subreddit                                           selftext  \\\n",
       "0  personalfinance  For years I put money into a deferred compensa...   \n",
       "1  personalfinance  So I’m 19 and currently in university And Ive ...   \n",
       "2  personalfinance  The other day I was turning right on a green i...   \n",
       "3  personalfinance                                          [removed]   \n",
       "4  personalfinance                                          [removed]   \n",
       "\n",
       "                                               title  created_utc  \n",
       "0  Percentage of paycheck into Deferred Comp plan...   1673558530  \n",
       "1           19yrs old First Car (you know the drill)   1673557919  \n",
       "2  Other driver ran into me, but I don't have ins...   1673557799  \n",
       "3  Need help with a parent who’s reluctant to beg...   1673557711  \n",
       "4  How do I buy a house? How do I qualify? What’s...   1673557611  "
      ]
     },
     "execution_count": 12,
     "metadata": {},
     "output_type": "execute_result"
    }
   ],
   "source": [
    "df = pd.concat([dfpf, dffi], axis = 0)\n",
    "df.head()"
   ]
  },
  {
   "cell_type": "code",
   "execution_count": 13,
   "id": "deb03286-db69-4c07-bd6c-1ed5e97c4ab7",
   "metadata": {},
   "outputs": [
    {
     "data": {
      "text/plain": [
       "(4418, 4)"
      ]
     },
     "execution_count": 13,
     "metadata": {},
     "output_type": "execute_result"
    }
   ],
   "source": [
    "df.shape"
   ]
  },
  {
   "cell_type": "code",
   "execution_count": 14,
   "id": "886a0fd4-1952-4f47-b17c-09a78ebe68b5",
   "metadata": {},
   "outputs": [
    {
     "name": "stdout",
     "output_type": "stream",
     "text": [
      "                  subreddit  \\\n",
      "0           personalfinance   \n",
      "1           personalfinance   \n",
      "2           personalfinance   \n",
      "3           personalfinance   \n",
      "4           personalfinance   \n",
      "...                     ...   \n",
      "1435  financialindependence   \n",
      "1436  financialindependence   \n",
      "1437  financialindependence   \n",
      "1438  financialindependence   \n",
      "1439  financialindependence   \n",
      "\n",
      "                                               selftext  \\\n",
      "0     For years I put money into a deferred compensa...   \n",
      "1     So I’m 19 and currently in university And Ive ...   \n",
      "2     The other day I was turning right on a green i...   \n",
      "3                                             [removed]   \n",
      "4                                             [removed]   \n",
      "...                                                 ...   \n",
      "1435                                          [removed]   \n",
      "1436                                          [removed]   \n",
      "1437                                          [removed]   \n",
      "1438                                          [removed]   \n",
      "1439                                          [removed]   \n",
      "\n",
      "                                                  title  created_utc  \n",
      "0     Percentage of paycheck into Deferred Comp plan...   1673558530  \n",
      "1              19yrs old First Car (you know the drill)   1673557919  \n",
      "2     Other driver ran into me, but I don't have ins...   1673557799  \n",
      "3     Need help with a parent who’s reluctant to beg...   1673557711  \n",
      "4     How do I buy a house? How do I qualify? What’s...   1673557611  \n",
      "...                                                 ...          ...  \n",
      "1435  Should I start paying down debt or keep invest...   1667521316  \n",
      "1436                  18yo in need of financial advice.   1667519274  \n",
      "1437                            Stop putting into 403 B   1667518247  \n",
      "1438        Como financiar um carro sem juros abusivos?   1667515619  \n",
      "1439  What the best way to start finding out about f...   1667508491  \n",
      "\n",
      "[4418 rows x 4 columns]\n"
     ]
    }
   ],
   "source": [
    "print(df)"
   ]
  },
  {
   "cell_type": "code",
   "execution_count": 15,
   "id": "8afc3e2a-510d-423e-9f2a-5be90c635551",
   "metadata": {},
   "outputs": [
    {
     "data": {
      "text/plain": [
       "personalfinance          0.674061\n",
       "financialindependence    0.325939\n",
       "Name: subreddit, dtype: float64"
      ]
     },
     "execution_count": 15,
     "metadata": {},
     "output_type": "execute_result"
    }
   ],
   "source": [
    "df['subreddit'].value_counts(normalize = True)"
   ]
  },
  {
   "cell_type": "markdown",
   "id": "9a510e0c-2770-40e0-a4d1-92825464eefc",
   "metadata": {},
   "source": [
    "* our baseline is 67% personal finance"
   ]
  },
  {
   "cell_type": "markdown",
   "id": "e9de5d5c-2f8c-4151-9520-b3f746e13728",
   "metadata": {
    "tags": []
   },
   "source": [
    "* binarizing the target column"
   ]
  },
  {
   "cell_type": "code",
   "execution_count": 16,
   "id": "7d22ee09-b444-44a7-a2c6-e1ad95a37376",
   "metadata": {},
   "outputs": [],
   "source": [
    "df['subreddit'] = df['subreddit'].map({'personalfinance': 1, 'financialindependence': 0})"
   ]
  },
  {
   "cell_type": "code",
   "execution_count": 17,
   "id": "5a3a2325-bd6b-43fb-9f95-0fb47e0f6516",
   "metadata": {},
   "outputs": [
    {
     "data": {
      "text/plain": [
       "1    0.674061\n",
       "0    0.325939\n",
       "Name: subreddit, dtype: float64"
      ]
     },
     "execution_count": 17,
     "metadata": {},
     "output_type": "execute_result"
    }
   ],
   "source": [
    "df['subreddit'].value_counts(normalize = True)"
   ]
  },
  {
   "cell_type": "markdown",
   "id": "2beefdc1-16fd-4168-9c7d-a8f8576f1ca4",
   "metadata": {},
   "source": [
    "* personal finance = 1 | financial independence = 0"
   ]
  },
  {
   "cell_type": "code",
   "execution_count": 18,
   "id": "0f603ab6-7fbb-4b21-91c8-e09afb370686",
   "metadata": {},
   "outputs": [
    {
     "name": "stdout",
     "output_type": "stream",
     "text": [
      "      subreddit                                           selftext  \\\n",
      "0             1  For years I put money into a deferred compensa...   \n",
      "1             1  So I’m 19 and currently in university And Ive ...   \n",
      "2             1  The other day I was turning right on a green i...   \n",
      "3             1                                          [removed]   \n",
      "4             1                                          [removed]   \n",
      "...         ...                                                ...   \n",
      "1435          0                                          [removed]   \n",
      "1436          0                                          [removed]   \n",
      "1437          0                                          [removed]   \n",
      "1438          0                                          [removed]   \n",
      "1439          0                                          [removed]   \n",
      "\n",
      "                                                  title  created_utc  \n",
      "0     Percentage of paycheck into Deferred Comp plan...   1673558530  \n",
      "1              19yrs old First Car (you know the drill)   1673557919  \n",
      "2     Other driver ran into me, but I don't have ins...   1673557799  \n",
      "3     Need help with a parent who’s reluctant to beg...   1673557711  \n",
      "4     How do I buy a house? How do I qualify? What’s...   1673557611  \n",
      "...                                                 ...          ...  \n",
      "1435  Should I start paying down debt or keep invest...   1667521316  \n",
      "1436                  18yo in need of financial advice.   1667519274  \n",
      "1437                            Stop putting into 403 B   1667518247  \n",
      "1438        Como financiar um carro sem juros abusivos?   1667515619  \n",
      "1439  What the best way to start finding out about f...   1667508491  \n",
      "\n",
      "[4418 rows x 4 columns]\n"
     ]
    }
   ],
   "source": [
    "print(df)"
   ]
  },
  {
   "cell_type": "code",
   "execution_count": 19,
   "id": "cf941236-1814-454f-a167-e26e60be0bc5",
   "metadata": {},
   "outputs": [
    {
     "data": {
      "text/plain": [
       "Index(['subreddit', 'selftext', 'title', 'created_utc'], dtype='object')"
      ]
     },
     "execution_count": 19,
     "metadata": {},
     "output_type": "execute_result"
    }
   ],
   "source": [
    "df.columns"
   ]
  },
  {
   "cell_type": "code",
   "execution_count": 20,
   "id": "48676a42-fa2e-4795-b17b-ed5493ea05a9",
   "metadata": {
    "tags": []
   },
   "outputs": [
    {
     "data": {
      "text/html": [
       "<div>\n",
       "<style scoped>\n",
       "    .dataframe tbody tr th:only-of-type {\n",
       "        vertical-align: middle;\n",
       "    }\n",
       "\n",
       "    .dataframe tbody tr th {\n",
       "        vertical-align: top;\n",
       "    }\n",
       "\n",
       "    .dataframe thead th {\n",
       "        text-align: right;\n",
       "    }\n",
       "</style>\n",
       "<table border=\"1\" class=\"dataframe\">\n",
       "  <thead>\n",
       "    <tr style=\"text-align: right;\">\n",
       "      <th></th>\n",
       "      <th>subreddit</th>\n",
       "      <th>selftext</th>\n",
       "      <th>title</th>\n",
       "    </tr>\n",
       "  </thead>\n",
       "  <tbody>\n",
       "    <tr>\n",
       "      <th>0</th>\n",
       "      <td>1</td>\n",
       "      <td>For years I put money into a deferred compensa...</td>\n",
       "      <td>Percentage of paycheck into Deferred Comp plan...</td>\n",
       "    </tr>\n",
       "    <tr>\n",
       "      <th>1</th>\n",
       "      <td>1</td>\n",
       "      <td>So I’m 19 and currently in university And Ive ...</td>\n",
       "      <td>19yrs old First Car (you know the drill)</td>\n",
       "    </tr>\n",
       "    <tr>\n",
       "      <th>2</th>\n",
       "      <td>1</td>\n",
       "      <td>The other day I was turning right on a green i...</td>\n",
       "      <td>Other driver ran into me, but I don't have ins...</td>\n",
       "    </tr>\n",
       "    <tr>\n",
       "      <th>3</th>\n",
       "      <td>1</td>\n",
       "      <td>[removed]</td>\n",
       "      <td>Need help with a parent who’s reluctant to beg...</td>\n",
       "    </tr>\n",
       "    <tr>\n",
       "      <th>4</th>\n",
       "      <td>1</td>\n",
       "      <td>[removed]</td>\n",
       "      <td>How do I buy a house? How do I qualify? What’s...</td>\n",
       "    </tr>\n",
       "  </tbody>\n",
       "</table>\n",
       "</div>"
      ],
      "text/plain": [
       "   subreddit                                           selftext  \\\n",
       "0          1  For years I put money into a deferred compensa...   \n",
       "1          1  So I’m 19 and currently in university And Ive ...   \n",
       "2          1  The other day I was turning right on a green i...   \n",
       "3          1                                          [removed]   \n",
       "4          1                                          [removed]   \n",
       "\n",
       "                                               title  \n",
       "0  Percentage of paycheck into Deferred Comp plan...  \n",
       "1           19yrs old First Car (you know the drill)  \n",
       "2  Other driver ran into me, but I don't have ins...  \n",
       "3  Need help with a parent who’s reluctant to beg...  \n",
       "4  How do I buy a house? How do I qualify? What’s...  "
      ]
     },
     "execution_count": 20,
     "metadata": {},
     "output_type": "execute_result"
    }
   ],
   "source": [
    "df.drop(columns = ['created_utc'], inplace = True)\n",
    "df.head()"
   ]
  },
  {
   "cell_type": "code",
   "execution_count": 21,
   "id": "9fbbf2c9-6d28-4510-8e92-8d2f88af8ba4",
   "metadata": {},
   "outputs": [],
   "source": [
    "X = df['title']\n",
    "y = df['subreddit']"
   ]
  },
  {
   "cell_type": "code",
   "execution_count": 22,
   "id": "f0adaebd-c855-4816-ac34-e0d70e0488af",
   "metadata": {},
   "outputs": [],
   "source": [
    "cvec = CountVectorizer()"
   ]
  },
  {
   "cell_type": "code",
   "execution_count": 23,
   "id": "3254cfd8-6b2e-4725-982d-89312c65e9c3",
   "metadata": {},
   "outputs": [
    {
     "data": {
      "text/plain": [
       "CountVectorizer()"
      ]
     },
     "execution_count": 23,
     "metadata": {},
     "output_type": "execute_result"
    }
   ],
   "source": [
    "cvec.fit(X)"
   ]
  },
  {
   "cell_type": "code",
   "execution_count": 24,
   "id": "337eb221-031b-40e6-85dc-4756144ae2a1",
   "metadata": {},
   "outputs": [
    {
     "data": {
      "text/plain": [
       "<4418x4593 sparse matrix of type '<class 'numpy.int64'>'\n",
       "\twith 38123 stored elements in Compressed Sparse Row format>"
      ]
     },
     "execution_count": 24,
     "metadata": {},
     "output_type": "execute_result"
    }
   ],
   "source": [
    "xdf = cvec.transform(X)\n",
    "xdf"
   ]
  },
  {
   "cell_type": "code",
   "execution_count": 25,
   "id": "dfc8d8bc-a6e8-48a7-93d8-589c4e44f01b",
   "metadata": {},
   "outputs": [
    {
     "data": {
      "image/png": "[encoded data removed]",
      "text/plain": [
       "<Figure size 640x480 with 1 Axes>"
      ]
     },
     "metadata": {},
     "output_type": "display_data"
    }
   ],
   "source": [
    "xdf2 = pd.DataFrame(xdf.todense(),\n",
    "                   columns = cvec.get_feature_names_out())\n",
    "\n",
    "xdf2.sum().sort_values(ascending = False).head(25).plot(kind = 'barh');"
   ]
  },
  {
   "cell_type": "code",
   "execution_count": 26,
   "id": "ab4be8be-c9dc-429a-86b8-071661b2b2e6",
   "metadata": {},
   "outputs": [],
   "source": [
    "df.to_csv('combined_data.csv')"
   ]
  },
  {
   "cell_type": "code",
   "execution_count": 27,
   "id": "e56d0f84-83dc-4e9f-8b33-0d9cf4ab84f3",
   "metadata": {},
   "outputs": [],
   "source": [
    "from nltk.stem import WordNetLemmatizer\n"
   ]
  },
  {
   "cell_type": "code",
   "execution_count": 28,
   "id": "4469684b-1a56-4ca8-87e2-746e5cef71f2",
   "metadata": {},
   "outputs": [
    {
     "data": {
      "text/plain": [
       "subreddit    0\n",
       "selftext     0\n",
       "title        0\n",
       "dtype: int64"
      ]
     },
     "execution_count": 28,
     "metadata": {},
     "output_type": "execute_result"
    }
   ],
   "source": [
    "df.isnull().sum()"
   ]
  },
  {
   "cell_type": "markdown",
   "id": "345662b2-3dbe-4dff-859d-0c7488fea8a5",
   "metadata": {},
   "source": [
    "* https://practicaldatascience.co.uk/machine-learning/how-to-perform-tokenization-in-nlp-with-nltk-and-python\n",
    "\n",
    "in order to ulitize tokenizer....\n",
    "1. cast to a string (drop nan values if necessary)\n",
    "2. write a function to tokenize\n",
    "3. tokenize data then add tokenized column"
   ]
  },
  {
   "cell_type": "code",
   "execution_count": 29,
   "id": "08acdffa-39aa-4aa9-a5a3-70806d5cc08c",
   "metadata": {},
   "outputs": [
    {
     "data": {
      "text/html": [
       "<div>\n",
       "<style scoped>\n",
       "    .dataframe tbody tr th:only-of-type {\n",
       "        vertical-align: middle;\n",
       "    }\n",
       "\n",
       "    .dataframe tbody tr th {\n",
       "        vertical-align: top;\n",
       "    }\n",
       "\n",
       "    .dataframe thead th {\n",
       "        text-align: right;\n",
       "    }\n",
       "</style>\n",
       "<table border=\"1\" class=\"dataframe\">\n",
       "  <thead>\n",
       "    <tr style=\"text-align: right;\">\n",
       "      <th></th>\n",
       "      <th>subreddit</th>\n",
       "      <th>selftext</th>\n",
       "      <th>title</th>\n",
       "    </tr>\n",
       "  </thead>\n",
       "  <tbody>\n",
       "    <tr>\n",
       "      <th>0</th>\n",
       "      <td>1</td>\n",
       "      <td>For years I put money into a deferred compensa...</td>\n",
       "      <td>Percentage of paycheck into Deferred Comp plan...</td>\n",
       "    </tr>\n",
       "    <tr>\n",
       "      <th>1</th>\n",
       "      <td>1</td>\n",
       "      <td>So I’m 19 and currently in university And Ive ...</td>\n",
       "      <td>19yrs old First Car (you know the drill)</td>\n",
       "    </tr>\n",
       "    <tr>\n",
       "      <th>2</th>\n",
       "      <td>1</td>\n",
       "      <td>The other day I was turning right on a green i...</td>\n",
       "      <td>Other driver ran into me, but I don't have ins...</td>\n",
       "    </tr>\n",
       "    <tr>\n",
       "      <th>3</th>\n",
       "      <td>1</td>\n",
       "      <td>[removed]</td>\n",
       "      <td>Need help with a parent who’s reluctant to beg...</td>\n",
       "    </tr>\n",
       "    <tr>\n",
       "      <th>4</th>\n",
       "      <td>1</td>\n",
       "      <td>[removed]</td>\n",
       "      <td>How do I buy a house? How do I qualify? What’s...</td>\n",
       "    </tr>\n",
       "  </tbody>\n",
       "</table>\n",
       "</div>"
      ],
      "text/plain": [
       "   subreddit                                           selftext  \\\n",
       "0          1  For years I put money into a deferred compensa...   \n",
       "1          1  So I’m 19 and currently in university And Ive ...   \n",
       "2          1  The other day I was turning right on a green i...   \n",
       "3          1                                          [removed]   \n",
       "4          1                                          [removed]   \n",
       "\n",
       "                                               title  \n",
       "0  Percentage of paycheck into Deferred Comp plan...  \n",
       "1           19yrs old First Car (you know the drill)  \n",
       "2  Other driver ran into me, but I don't have ins...  \n",
       "3  Need help with a parent who’s reluctant to beg...  \n",
       "4  How do I buy a house? How do I qualify? What’s...  "
      ]
     },
     "execution_count": 29,
     "metadata": {},
     "output_type": "execute_result"
    }
   ],
   "source": [
    "df['title'] = df['title'].astype(str)\n",
    "df.head()"
   ]
  },
  {
   "cell_type": "code",
   "execution_count": 30,
   "id": "5e8559bb-a4d1-4179-a4e2-c95b46c3f594",
   "metadata": {},
   "outputs": [],
   "source": [
    "df['title'] = df['title'].str.lower()"
   ]
  },
  {
   "cell_type": "code",
   "execution_count": 31,
   "id": "fe0ad052-f7da-41cc-a096-a618a400af93",
   "metadata": {},
   "outputs": [
    {
     "data": {
      "text/html": [
       "<div>\n",
       "<style scoped>\n",
       "    .dataframe tbody tr th:only-of-type {\n",
       "        vertical-align: middle;\n",
       "    }\n",
       "\n",
       "    .dataframe tbody tr th {\n",
       "        vertical-align: top;\n",
       "    }\n",
       "\n",
       "    .dataframe thead th {\n",
       "        text-align: right;\n",
       "    }\n",
       "</style>\n",
       "<table border=\"1\" class=\"dataframe\">\n",
       "  <thead>\n",
       "    <tr style=\"text-align: right;\">\n",
       "      <th></th>\n",
       "      <th>subreddit</th>\n",
       "      <th>selftext</th>\n",
       "      <th>title</th>\n",
       "      <th>tokenized</th>\n",
       "    </tr>\n",
       "  </thead>\n",
       "  <tbody>\n",
       "    <tr>\n",
       "      <th>0</th>\n",
       "      <td>1</td>\n",
       "      <td>For years I put money into a deferred compensa...</td>\n",
       "      <td>percentage of paycheck into deferred comp plan...</td>\n",
       "      <td>[percentage, of, paycheck, into, deferred, com...</td>\n",
       "    </tr>\n",
       "    <tr>\n",
       "      <th>1</th>\n",
       "      <td>1</td>\n",
       "      <td>So I’m 19 and currently in university And Ive ...</td>\n",
       "      <td>19yrs old first car (you know the drill)</td>\n",
       "      <td>[old, first, car, you, know, the, drill]</td>\n",
       "    </tr>\n",
       "    <tr>\n",
       "      <th>2</th>\n",
       "      <td>1</td>\n",
       "      <td>The other day I was turning right on a green i...</td>\n",
       "      <td>other driver ran into me, but i don't have ins...</td>\n",
       "      <td>[other, driver, ran, into, me, but, i, do, hav...</td>\n",
       "    </tr>\n",
       "    <tr>\n",
       "      <th>3</th>\n",
       "      <td>1</td>\n",
       "      <td>[removed]</td>\n",
       "      <td>need help with a parent who’s reluctant to beg...</td>\n",
       "      <td>[need, help, with, a, parent, who, s, reluctan...</td>\n",
       "    </tr>\n",
       "    <tr>\n",
       "      <th>4</th>\n",
       "      <td>1</td>\n",
       "      <td>[removed]</td>\n",
       "      <td>how do i buy a house? how do i qualify? what’s...</td>\n",
       "      <td>[how, do, i, buy, a, house, how, do, i, qualif...</td>\n",
       "    </tr>\n",
       "  </tbody>\n",
       "</table>\n",
       "</div>"
      ],
      "text/plain": [
       "   subreddit                                           selftext  \\\n",
       "0          1  For years I put money into a deferred compensa...   \n",
       "1          1  So I’m 19 and currently in university And Ive ...   \n",
       "2          1  The other day I was turning right on a green i...   \n",
       "3          1                                          [removed]   \n",
       "4          1                                          [removed]   \n",
       "\n",
       "                                               title  \\\n",
       "0  percentage of paycheck into deferred comp plan...   \n",
       "1           19yrs old first car (you know the drill)   \n",
       "2  other driver ran into me, but i don't have ins...   \n",
       "3  need help with a parent who’s reluctant to beg...   \n",
       "4  how do i buy a house? how do i qualify? what’s...   \n",
       "\n",
       "                                           tokenized  \n",
       "0  [percentage, of, paycheck, into, deferred, com...  \n",
       "1           [old, first, car, you, know, the, drill]  \n",
       "2  [other, driver, ran, into, me, but, i, do, hav...  \n",
       "3  [need, help, with, a, parent, who, s, reluctan...  \n",
       "4  [how, do, i, buy, a, house, how, do, i, qualif...  "
      ]
     },
     "execution_count": 31,
     "metadata": {},
     "output_type": "execute_result"
    }
   ],
   "source": [
    "def tokenize(column):\n",
    "    tokens = word_tokenize(column)\n",
    "    return [w for w in tokens if w.isalpha()]\n",
    "\n",
    "df['tokenized'] = df.apply(lambda x: tokenize(x['title']), axis = 1)\n",
    "df.head()"
   ]
  },
  {
   "cell_type": "code",
   "execution_count": 32,
   "id": "19edaae2-d371-42a0-bde4-3183cbf528d4",
   "metadata": {},
   "outputs": [
    {
     "name": "stdout",
     "output_type": "stream",
     "text": [
      "0       [percentage, of, paycheck, into, deferred, com...\n",
      "1                [old, first, car, you, know, the, drill]\n",
      "2       [other, driver, ran, into, me, but, i, do, hav...\n",
      "3       [need, help, with, a, parent, who, s, reluctan...\n",
      "4       [how, do, i, buy, a, house, how, do, i, qualif...\n",
      "                              ...                        \n",
      "1435    [should, i, start, paying, down, debt, or, kee...\n",
      "1436                    [in, need, of, financial, advice]\n",
      "1437                             [stop, putting, into, b]\n",
      "1438    [como, financiar, um, carro, sem, juros, abusi...\n",
      "1439    [what, the, best, way, to, start, finding, out...\n",
      "Name: tokenized, Length: 4418, dtype: object\n"
     ]
    }
   ],
   "source": [
    "print(df['tokenized'])"
   ]
  },
  {
   "cell_type": "code",
   "execution_count": null,
   "id": "517b8c4f-ee4a-49f7-8989-f62f6f0d4645",
   "metadata": {},
   "outputs": [],
   "source": []
  },
  {
   "cell_type": "code",
   "execution_count": 33,
   "id": "05a33734-72f5-4e2a-a856-daf0b9cd788e",
   "metadata": {},
   "outputs": [],
   "source": [
    "df['title_length'] = df['title'].apply(len)"
   ]
  },
  {
   "cell_type": "code",
   "execution_count": 34,
   "id": "ada02847-5c62-4bc4-b1b8-ea893a055c4e",
   "metadata": {},
   "outputs": [
    {
     "data": {
      "text/html": [
       "<div>\n",
       "<style scoped>\n",
       "    .dataframe tbody tr th:only-of-type {\n",
       "        vertical-align: middle;\n",
       "    }\n",
       "\n",
       "    .dataframe tbody tr th {\n",
       "        vertical-align: top;\n",
       "    }\n",
       "\n",
       "    .dataframe thead th {\n",
       "        text-align: right;\n",
       "    }\n",
       "</style>\n",
       "<table border=\"1\" class=\"dataframe\">\n",
       "  <thead>\n",
       "    <tr style=\"text-align: right;\">\n",
       "      <th></th>\n",
       "      <th>subreddit</th>\n",
       "      <th>selftext</th>\n",
       "      <th>title</th>\n",
       "      <th>tokenized</th>\n",
       "      <th>title_length</th>\n",
       "    </tr>\n",
       "  </thead>\n",
       "  <tbody>\n",
       "    <tr>\n",
       "      <th>0</th>\n",
       "      <td>1</td>\n",
       "      <td>For years I put money into a deferred compensa...</td>\n",
       "      <td>percentage of paycheck into deferred comp plan...</td>\n",
       "      <td>[percentage, of, paycheck, into, deferred, com...</td>\n",
       "      <td>62</td>\n",
       "    </tr>\n",
       "    <tr>\n",
       "      <th>1</th>\n",
       "      <td>1</td>\n",
       "      <td>So I’m 19 and currently in university And Ive ...</td>\n",
       "      <td>19yrs old first car (you know the drill)</td>\n",
       "      <td>[old, first, car, you, know, the, drill]</td>\n",
       "      <td>40</td>\n",
       "    </tr>\n",
       "    <tr>\n",
       "      <th>2</th>\n",
       "      <td>1</td>\n",
       "      <td>The other day I was turning right on a green i...</td>\n",
       "      <td>other driver ran into me, but i don't have ins...</td>\n",
       "      <td>[other, driver, ran, into, me, but, i, do, hav...</td>\n",
       "      <td>53</td>\n",
       "    </tr>\n",
       "    <tr>\n",
       "      <th>3</th>\n",
       "      <td>1</td>\n",
       "      <td>[removed]</td>\n",
       "      <td>need help with a parent who’s reluctant to beg...</td>\n",
       "      <td>[need, help, with, a, parent, who, s, reluctan...</td>\n",
       "      <td>76</td>\n",
       "    </tr>\n",
       "    <tr>\n",
       "      <th>4</th>\n",
       "      <td>1</td>\n",
       "      <td>[removed]</td>\n",
       "      <td>how do i buy a house? how do i qualify? what’s...</td>\n",
       "      <td>[how, do, i, buy, a, house, how, do, i, qualif...</td>\n",
       "      <td>59</td>\n",
       "    </tr>\n",
       "  </tbody>\n",
       "</table>\n",
       "</div>"
      ],
      "text/plain": [
       "   subreddit                                           selftext  \\\n",
       "0          1  For years I put money into a deferred compensa...   \n",
       "1          1  So I’m 19 and currently in university And Ive ...   \n",
       "2          1  The other day I was turning right on a green i...   \n",
       "3          1                                          [removed]   \n",
       "4          1                                          [removed]   \n",
       "\n",
       "                                               title  \\\n",
       "0  percentage of paycheck into deferred comp plan...   \n",
       "1           19yrs old first car (you know the drill)   \n",
       "2  other driver ran into me, but i don't have ins...   \n",
       "3  need help with a parent who’s reluctant to beg...   \n",
       "4  how do i buy a house? how do i qualify? what’s...   \n",
       "\n",
       "                                           tokenized  title_length  \n",
       "0  [percentage, of, paycheck, into, deferred, com...            62  \n",
       "1           [old, first, car, you, know, the, drill]            40  \n",
       "2  [other, driver, ran, into, me, but, i, do, hav...            53  \n",
       "3  [need, help, with, a, parent, who, s, reluctan...            76  \n",
       "4  [how, do, i, buy, a, house, how, do, i, qualif...            59  "
      ]
     },
     "execution_count": 34,
     "metadata": {},
     "output_type": "execute_result"
    }
   ],
   "source": [
    "df.head()"
   ]
  },
  {
   "cell_type": "markdown",
   "id": "86d9118a-5acd-4f9c-8514-0d11585c4eb9",
   "metadata": {},
   "source": [
    "* personal finance = 1 | financial independence = 0\n"
   ]
  },
  {
   "cell_type": "code",
   "execution_count": 35,
   "id": "9c6fd46a-0a90-40e8-bcec-9ea46c3f525d",
   "metadata": {},
   "outputs": [],
   "source": [
    "df.to_csv('tokenized_dataframe.csv')"
   ]
  },
  {
   "cell_type": "markdown",
   "id": "dc2b36eb-7c77-47da-bee6-8f0ca268ac1a",
   "metadata": {},
   "source": [
    "* new column to add title word count"
   ]
  },
  {
   "cell_type": "code",
   "execution_count": 45,
   "id": "df6fa4de-74a0-47cc-aef9-228fe2f53d76",
   "metadata": {},
   "outputs": [
    {
     "data": {
      "text/html": [
       "<div>\n",
       "<style scoped>\n",
       "    .dataframe tbody tr th:only-of-type {\n",
       "        vertical-align: middle;\n",
       "    }\n",
       "\n",
       "    .dataframe tbody tr th {\n",
       "        vertical-align: top;\n",
       "    }\n",
       "\n",
       "    .dataframe thead th {\n",
       "        text-align: right;\n",
       "    }\n",
       "</style>\n",
       "<table border=\"1\" class=\"dataframe\">\n",
       "  <thead>\n",
       "    <tr style=\"text-align: right;\">\n",
       "      <th></th>\n",
       "      <th>subreddit</th>\n",
       "      <th>selftext</th>\n",
       "      <th>title</th>\n",
       "      <th>tokenized</th>\n",
       "      <th>title_length</th>\n",
       "      <th>word_count</th>\n",
       "    </tr>\n",
       "  </thead>\n",
       "  <tbody>\n",
       "    <tr>\n",
       "      <th>1435</th>\n",
       "      <td>0</td>\n",
       "      <td>[removed]</td>\n",
       "      <td>should i start paying down debt or keep invest...</td>\n",
       "      <td>[should, i, start, paying, down, debt, or, kee...</td>\n",
       "      <td>50</td>\n",
       "      <td>9</td>\n",
       "    </tr>\n",
       "    <tr>\n",
       "      <th>1436</th>\n",
       "      <td>0</td>\n",
       "      <td>[removed]</td>\n",
       "      <td>18yo in need of financial advice.</td>\n",
       "      <td>[in, need, of, financial, advice]</td>\n",
       "      <td>33</td>\n",
       "      <td>6</td>\n",
       "    </tr>\n",
       "    <tr>\n",
       "      <th>1437</th>\n",
       "      <td>0</td>\n",
       "      <td>[removed]</td>\n",
       "      <td>stop putting into 403 b</td>\n",
       "      <td>[stop, putting, into, b]</td>\n",
       "      <td>23</td>\n",
       "      <td>5</td>\n",
       "    </tr>\n",
       "    <tr>\n",
       "      <th>1438</th>\n",
       "      <td>0</td>\n",
       "      <td>[removed]</td>\n",
       "      <td>como financiar um carro sem juros abusivos?</td>\n",
       "      <td>[como, financiar, um, carro, sem, juros, abusi...</td>\n",
       "      <td>43</td>\n",
       "      <td>7</td>\n",
       "    </tr>\n",
       "    <tr>\n",
       "      <th>1439</th>\n",
       "      <td>0</td>\n",
       "      <td>[removed]</td>\n",
       "      <td>what the best way to start finding out about f...</td>\n",
       "      <td>[what, the, best, way, to, start, finding, out...</td>\n",
       "      <td>140</td>\n",
       "      <td>27</td>\n",
       "    </tr>\n",
       "  </tbody>\n",
       "</table>\n",
       "</div>"
      ],
      "text/plain": [
       "      subreddit   selftext                                              title  \\\n",
       "1435          0  [removed]  should i start paying down debt or keep invest...   \n",
       "1436          0  [removed]                  18yo in need of financial advice.   \n",
       "1437          0  [removed]                            stop putting into 403 b   \n",
       "1438          0  [removed]        como financiar um carro sem juros abusivos?   \n",
       "1439          0  [removed]  what the best way to start finding out about f...   \n",
       "\n",
       "                                              tokenized  title_length  \\\n",
       "1435  [should, i, start, paying, down, debt, or, kee...            50   \n",
       "1436                  [in, need, of, financial, advice]            33   \n",
       "1437                           [stop, putting, into, b]            23   \n",
       "1438  [como, financiar, um, carro, sem, juros, abusi...            43   \n",
       "1439  [what, the, best, way, to, start, finding, out...           140   \n",
       "\n",
       "      word_count  \n",
       "1435           9  \n",
       "1436           6  \n",
       "1437           5  \n",
       "1438           7  \n",
       "1439          27  "
      ]
     },
     "execution_count": 45,
     "metadata": {},
     "output_type": "execute_result"
    }
   ],
   "source": [
    "df['word_count'] = df['title'].apply(lambda x: len(x.split()))\n",
    "df.tail()"
   ]
  },
  {
   "cell_type": "code",
   "execution_count": 44,
   "id": "987a08a2-b1cf-41b5-a623-86b0fdbd8dde",
   "metadata": {},
   "outputs": [
    {
     "data": {
      "text/html": [
       "<div>\n",
       "<style scoped>\n",
       "    .dataframe tbody tr th:only-of-type {\n",
       "        vertical-align: middle;\n",
       "    }\n",
       "\n",
       "    .dataframe tbody tr th {\n",
       "        vertical-align: top;\n",
       "    }\n",
       "\n",
       "    .dataframe thead th {\n",
       "        text-align: right;\n",
       "    }\n",
       "</style>\n",
       "<table border=\"1\" class=\"dataframe\">\n",
       "  <thead>\n",
       "    <tr style=\"text-align: right;\">\n",
       "      <th></th>\n",
       "      <th>subreddit</th>\n",
       "      <th>selftext</th>\n",
       "      <th>title</th>\n",
       "      <th>tokenized</th>\n",
       "      <th>title_length</th>\n",
       "      <th>word_count</th>\n",
       "    </tr>\n",
       "  </thead>\n",
       "  <tbody>\n",
       "    <tr>\n",
       "      <th>0</th>\n",
       "      <td>1</td>\n",
       "      <td>For years I put money into a deferred compensa...</td>\n",
       "      <td>percentage of paycheck into deferred comp plan...</td>\n",
       "      <td>[percentage, of, paycheck, into, deferred, com...</td>\n",
       "      <td>62</td>\n",
       "      <td>9</td>\n",
       "    </tr>\n",
       "    <tr>\n",
       "      <th>1</th>\n",
       "      <td>1</td>\n",
       "      <td>So I’m 19 and currently in university And Ive ...</td>\n",
       "      <td>19yrs old first car (you know the drill)</td>\n",
       "      <td>[old, first, car, you, know, the, drill]</td>\n",
       "      <td>40</td>\n",
       "      <td>8</td>\n",
       "    </tr>\n",
       "    <tr>\n",
       "      <th>2</th>\n",
       "      <td>1</td>\n",
       "      <td>The other day I was turning right on a green i...</td>\n",
       "      <td>other driver ran into me, but i don't have ins...</td>\n",
       "      <td>[other, driver, ran, into, me, but, i, do, hav...</td>\n",
       "      <td>53</td>\n",
       "      <td>10</td>\n",
       "    </tr>\n",
       "    <tr>\n",
       "      <th>3</th>\n",
       "      <td>1</td>\n",
       "      <td>[removed]</td>\n",
       "      <td>need help with a parent who’s reluctant to beg...</td>\n",
       "      <td>[need, help, with, a, parent, who, s, reluctan...</td>\n",
       "      <td>76</td>\n",
       "      <td>14</td>\n",
       "    </tr>\n",
       "    <tr>\n",
       "      <th>4</th>\n",
       "      <td>1</td>\n",
       "      <td>[removed]</td>\n",
       "      <td>how do i buy a house? how do i qualify? what’s...</td>\n",
       "      <td>[how, do, i, buy, a, house, how, do, i, qualif...</td>\n",
       "      <td>59</td>\n",
       "      <td>13</td>\n",
       "    </tr>\n",
       "    <tr>\n",
       "      <th>...</th>\n",
       "      <td>...</td>\n",
       "      <td>...</td>\n",
       "      <td>...</td>\n",
       "      <td>...</td>\n",
       "      <td>...</td>\n",
       "      <td>...</td>\n",
       "    </tr>\n",
       "    <tr>\n",
       "      <th>95</th>\n",
       "      <td>1</td>\n",
       "      <td>Hi all, new to this sub. So, I woke up this mo...</td>\n",
       "      <td>23 yr old, nyc. 10k debt</td>\n",
       "      <td>[yr, old, nyc, debt]</td>\n",
       "      <td>24</td>\n",
       "      <td>6</td>\n",
       "    </tr>\n",
       "    <tr>\n",
       "      <th>96</th>\n",
       "      <td>1</td>\n",
       "      <td>Let's say I had my basic necessities taken car...</td>\n",
       "      <td>what are any money growing techniques that i c...</td>\n",
       "      <td>[what, are, any, money, growing, techniques, t...</td>\n",
       "      <td>95</td>\n",
       "      <td>20</td>\n",
       "    </tr>\n",
       "    <tr>\n",
       "      <th>97</th>\n",
       "      <td>1</td>\n",
       "      <td>[removed]</td>\n",
       "      <td>around $10,000 in total debt. 23 yr old male. nyc</td>\n",
       "      <td>[around, in, total, debt, yr, old, male, nyc]</td>\n",
       "      <td>49</td>\n",
       "      <td>10</td>\n",
       "    </tr>\n",
       "    <tr>\n",
       "      <th>98</th>\n",
       "      <td>1</td>\n",
       "      <td>I have little savings in digital bank (cimb) w...</td>\n",
       "      <td>coop vs. digital banks</td>\n",
       "      <td>[coop, digital, banks]</td>\n",
       "      <td>22</td>\n",
       "      <td>4</td>\n",
       "    </tr>\n",
       "    <tr>\n",
       "      <th>99</th>\n",
       "      <td>1</td>\n",
       "      <td>Lived with a friend for a full year to get out...</td>\n",
       "      <td>buying a house with 13k?</td>\n",
       "      <td>[buying, a, house, with]</td>\n",
       "      <td>24</td>\n",
       "      <td>5</td>\n",
       "    </tr>\n",
       "  </tbody>\n",
       "</table>\n",
       "<p>100 rows × 6 columns</p>\n",
       "</div>"
      ],
      "text/plain": [
       "    subreddit                                           selftext  \\\n",
       "0           1  For years I put money into a deferred compensa...   \n",
       "1           1  So I’m 19 and currently in university And Ive ...   \n",
       "2           1  The other day I was turning right on a green i...   \n",
       "3           1                                          [removed]   \n",
       "4           1                                          [removed]   \n",
       "..        ...                                                ...   \n",
       "95          1  Hi all, new to this sub. So, I woke up this mo...   \n",
       "96          1  Let's say I had my basic necessities taken car...   \n",
       "97          1                                          [removed]   \n",
       "98          1  I have little savings in digital bank (cimb) w...   \n",
       "99          1  Lived with a friend for a full year to get out...   \n",
       "\n",
       "                                                title  \\\n",
       "0   percentage of paycheck into deferred comp plan...   \n",
       "1            19yrs old first car (you know the drill)   \n",
       "2   other driver ran into me, but i don't have ins...   \n",
       "3   need help with a parent who’s reluctant to beg...   \n",
       "4   how do i buy a house? how do i qualify? what’s...   \n",
       "..                                                ...   \n",
       "95                           23 yr old, nyc. 10k debt   \n",
       "96  what are any money growing techniques that i c...   \n",
       "97  around $10,000 in total debt. 23 yr old male. nyc   \n",
       "98                             coop vs. digital banks   \n",
       "99                           buying a house with 13k?   \n",
       "\n",
       "                                            tokenized  title_length  \\\n",
       "0   [percentage, of, paycheck, into, deferred, com...            62   \n",
       "1            [old, first, car, you, know, the, drill]            40   \n",
       "2   [other, driver, ran, into, me, but, i, do, hav...            53   \n",
       "3   [need, help, with, a, parent, who, s, reluctan...            76   \n",
       "4   [how, do, i, buy, a, house, how, do, i, qualif...            59   \n",
       "..                                                ...           ...   \n",
       "95                               [yr, old, nyc, debt]            24   \n",
       "96  [what, are, any, money, growing, techniques, t...            95   \n",
       "97      [around, in, total, debt, yr, old, male, nyc]            49   \n",
       "98                             [coop, digital, banks]            22   \n",
       "99                           [buying, a, house, with]            24   \n",
       "\n",
       "    word_count  \n",
       "0            9  \n",
       "1            8  \n",
       "2           10  \n",
       "3           14  \n",
       "4           13  \n",
       "..         ...  \n",
       "95           6  \n",
       "96          20  \n",
       "97          10  \n",
       "98           4  \n",
       "99           5  \n",
       "\n",
       "[100 rows x 6 columns]"
      ]
     },
     "execution_count": 44,
     "metadata": {},
     "output_type": "execute_result"
    }
   ],
   "source": [
    "df.head(100)"
   ]
  },
  {
   "cell_type": "code",
   "execution_count": 46,
   "id": "6d608a96-2ebf-4438-aec4-63216243709d",
   "metadata": {},
   "outputs": [
    {
     "data": {
      "text/html": [
       "<div>\n",
       "<style scoped>\n",
       "    .dataframe tbody tr th:only-of-type {\n",
       "        vertical-align: middle;\n",
       "    }\n",
       "\n",
       "    .dataframe tbody tr th {\n",
       "        vertical-align: top;\n",
       "    }\n",
       "\n",
       "    .dataframe thead th {\n",
       "        text-align: right;\n",
       "    }\n",
       "</style>\n",
       "<table border=\"1\" class=\"dataframe\">\n",
       "  <thead>\n",
       "    <tr style=\"text-align: right;\">\n",
       "      <th></th>\n",
       "      <th>subreddit</th>\n",
       "      <th>title_length</th>\n",
       "      <th>word_count</th>\n",
       "    </tr>\n",
       "  </thead>\n",
       "  <tbody>\n",
       "    <tr>\n",
       "      <th>count</th>\n",
       "      <td>4418.000000</td>\n",
       "      <td>4418.000000</td>\n",
       "      <td>4418.000000</td>\n",
       "    </tr>\n",
       "    <tr>\n",
       "      <th>mean</th>\n",
       "      <td>0.674061</td>\n",
       "      <td>52.564735</td>\n",
       "      <td>9.478950</td>\n",
       "    </tr>\n",
       "    <tr>\n",
       "      <th>std</th>\n",
       "      <td>0.468778</td>\n",
       "      <td>30.272283</td>\n",
       "      <td>5.788721</td>\n",
       "    </tr>\n",
       "    <tr>\n",
       "      <th>min</th>\n",
       "      <td>0.000000</td>\n",
       "      <td>3.000000</td>\n",
       "      <td>1.000000</td>\n",
       "    </tr>\n",
       "    <tr>\n",
       "      <th>25%</th>\n",
       "      <td>0.000000</td>\n",
       "      <td>31.250000</td>\n",
       "      <td>5.000000</td>\n",
       "    </tr>\n",
       "    <tr>\n",
       "      <th>50%</th>\n",
       "      <td>1.000000</td>\n",
       "      <td>46.000000</td>\n",
       "      <td>8.000000</td>\n",
       "    </tr>\n",
       "    <tr>\n",
       "      <th>75%</th>\n",
       "      <td>1.000000</td>\n",
       "      <td>66.000000</td>\n",
       "      <td>12.000000</td>\n",
       "    </tr>\n",
       "    <tr>\n",
       "      <th>max</th>\n",
       "      <td>1.000000</td>\n",
       "      <td>299.000000</td>\n",
       "      <td>55.000000</td>\n",
       "    </tr>\n",
       "  </tbody>\n",
       "</table>\n",
       "</div>"
      ],
      "text/plain": [
       "         subreddit  title_length   word_count\n",
       "count  4418.000000   4418.000000  4418.000000\n",
       "mean      0.674061     52.564735     9.478950\n",
       "std       0.468778     30.272283     5.788721\n",
       "min       0.000000      3.000000     1.000000\n",
       "25%       0.000000     31.250000     5.000000\n",
       "50%       1.000000     46.000000     8.000000\n",
       "75%       1.000000     66.000000    12.000000\n",
       "max       1.000000    299.000000    55.000000"
      ]
     },
     "execution_count": 46,
     "metadata": {},
     "output_type": "execute_result"
    }
   ],
   "source": [
    "df.describe()"
   ]
  },
  {
   "cell_type": "markdown",
   "id": "3bec474e-fa56-4655-a7c1-b09c2824b49d",
   "metadata": {},
   "source": [
    "* printing the length of the subset of the dataframe, based on two conditions, i.e. printing the number of rows in the subset"
   ]
  },
  {
   "cell_type": "code",
   "execution_count": 52,
   "id": "bcd77b6f-8c32-4381-8863-0b3a31b1b514",
   "metadata": {},
   "outputs": [
    {
     "name": "stdout",
     "output_type": "stream",
     "text": [
      "518\n",
      "689\n"
     ]
    }
   ],
   "source": [
    "print(len(df[(df['subreddit'] == 1) & (df['selftext'] == '[removed]')]))\n",
    "\n",
    "print(len(df[(df['subreddit'] == 0) & (df['selftext'] == '[removed]')]))\n",
    "\n"
   ]
  },
  {
   "cell_type": "code",
   "execution_count": 54,
   "id": "c9b32367-e72d-4274-aa10-62d8388af050",
   "metadata": {},
   "outputs": [
    {
     "data": {
      "text/plain": [
       "subreddit       0\n",
       "selftext        0\n",
       "title           0\n",
       "tokenized       0\n",
       "title_length    0\n",
       "word_count      0\n",
       "dtype: int64"
      ]
     },
     "execution_count": 54,
     "metadata": {},
     "output_type": "execute_result"
    }
   ],
   "source": [
    "df.isnull().sum()"
   ]
  },
  {
   "cell_type": "code",
   "execution_count": 55,
   "id": "c270386b-8a26-43f4-aa0a-732ab30df323",
   "metadata": {},
   "outputs": [
    {
     "data": {
      "text/html": [
       "<div>\n",
       "<style scoped>\n",
       "    .dataframe tbody tr th:only-of-type {\n",
       "        vertical-align: middle;\n",
       "    }\n",
       "\n",
       "    .dataframe tbody tr th {\n",
       "        vertical-align: top;\n",
       "    }\n",
       "\n",
       "    .dataframe thead th {\n",
       "        text-align: right;\n",
       "    }\n",
       "</style>\n",
       "<table border=\"1\" class=\"dataframe\">\n",
       "  <thead>\n",
       "    <tr style=\"text-align: right;\">\n",
       "      <th></th>\n",
       "      <th>subreddit</th>\n",
       "      <th>selftext</th>\n",
       "      <th>title</th>\n",
       "      <th>tokenized</th>\n",
       "      <th>title_length</th>\n",
       "      <th>word_count</th>\n",
       "      <th>title_selftext</th>\n",
       "    </tr>\n",
       "  </thead>\n",
       "  <tbody>\n",
       "    <tr>\n",
       "      <th>0</th>\n",
       "      <td>1</td>\n",
       "      <td>For years I put money into a deferred compensa...</td>\n",
       "      <td>percentage of paycheck into deferred comp plan...</td>\n",
       "      <td>[percentage, of, paycheck, into, deferred, com...</td>\n",
       "      <td>62</td>\n",
       "      <td>9</td>\n",
       "      <td>percentage of paycheck into deferred comp plan...</td>\n",
       "    </tr>\n",
       "    <tr>\n",
       "      <th>1</th>\n",
       "      <td>1</td>\n",
       "      <td>So I’m 19 and currently in university And Ive ...</td>\n",
       "      <td>19yrs old first car (you know the drill)</td>\n",
       "      <td>[old, first, car, you, know, the, drill]</td>\n",
       "      <td>40</td>\n",
       "      <td>8</td>\n",
       "      <td>19yrs old first car (you know the drill)So I’m...</td>\n",
       "    </tr>\n",
       "    <tr>\n",
       "      <th>2</th>\n",
       "      <td>1</td>\n",
       "      <td>The other day I was turning right on a green i...</td>\n",
       "      <td>other driver ran into me, but i don't have ins...</td>\n",
       "      <td>[other, driver, ran, into, me, but, i, do, hav...</td>\n",
       "      <td>53</td>\n",
       "      <td>10</td>\n",
       "      <td>other driver ran into me, but i don't have ins...</td>\n",
       "    </tr>\n",
       "    <tr>\n",
       "      <th>3</th>\n",
       "      <td>1</td>\n",
       "      <td></td>\n",
       "      <td>need help with a parent who’s reluctant to beg...</td>\n",
       "      <td>[need, help, with, a, parent, who, s, reluctan...</td>\n",
       "      <td>76</td>\n",
       "      <td>14</td>\n",
       "      <td>need help with a parent who’s reluctant to beg...</td>\n",
       "    </tr>\n",
       "    <tr>\n",
       "      <th>4</th>\n",
       "      <td>1</td>\n",
       "      <td></td>\n",
       "      <td>how do i buy a house? how do i qualify? what’s...</td>\n",
       "      <td>[how, do, i, buy, a, house, how, do, i, qualif...</td>\n",
       "      <td>59</td>\n",
       "      <td>13</td>\n",
       "      <td>how do i buy a house? how do i qualify? what’s...</td>\n",
       "    </tr>\n",
       "  </tbody>\n",
       "</table>\n",
       "</div>"
      ],
      "text/plain": [
       "   subreddit                                           selftext  \\\n",
       "0          1  For years I put money into a deferred compensa...   \n",
       "1          1  So I’m 19 and currently in university And Ive ...   \n",
       "2          1  The other day I was turning right on a green i...   \n",
       "3          1                                                      \n",
       "4          1                                                      \n",
       "\n",
       "                                               title  \\\n",
       "0  percentage of paycheck into deferred comp plan...   \n",
       "1           19yrs old first car (you know the drill)   \n",
       "2  other driver ran into me, but i don't have ins...   \n",
       "3  need help with a parent who’s reluctant to beg...   \n",
       "4  how do i buy a house? how do i qualify? what’s...   \n",
       "\n",
       "                                           tokenized  title_length  \\\n",
       "0  [percentage, of, paycheck, into, deferred, com...            62   \n",
       "1           [old, first, car, you, know, the, drill]            40   \n",
       "2  [other, driver, ran, into, me, but, i, do, hav...            53   \n",
       "3  [need, help, with, a, parent, who, s, reluctan...            76   \n",
       "4  [how, do, i, buy, a, house, how, do, i, qualif...            59   \n",
       "\n",
       "   word_count                                     title_selftext  \n",
       "0           9  percentage of paycheck into deferred comp plan...  \n",
       "1           8  19yrs old first car (you know the drill)So I’m...  \n",
       "2          10  other driver ran into me, but i don't have ins...  \n",
       "3          14  need help with a parent who’s reluctant to beg...  \n",
       "4          13  how do i buy a house? how do i qualify? what’s...  "
      ]
     },
     "execution_count": 55,
     "metadata": {},
     "output_type": "execute_result"
    }
   ],
   "source": [
    "df['selftext'].replace('[removed]', ' ', inplace = True)\n",
    "df['title_selftext'] = df['title'] + df['selftext']\n",
    "df.head()"
   ]
  },
  {
   "cell_type": "code",
   "execution_count": 56,
   "id": "21c15db3-64fe-4c1c-8cf6-d21dbb45eba0",
   "metadata": {},
   "outputs": [
    {
     "data": {
      "text/html": [
       "<div>\n",
       "<style scoped>\n",
       "    .dataframe tbody tr th:only-of-type {\n",
       "        vertical-align: middle;\n",
       "    }\n",
       "\n",
       "    .dataframe tbody tr th {\n",
       "        vertical-align: top;\n",
       "    }\n",
       "\n",
       "    .dataframe thead th {\n",
       "        text-align: right;\n",
       "    }\n",
       "</style>\n",
       "<table border=\"1\" class=\"dataframe\">\n",
       "  <thead>\n",
       "    <tr style=\"text-align: right;\">\n",
       "      <th></th>\n",
       "      <th>subreddit</th>\n",
       "      <th>selftext</th>\n",
       "      <th>title</th>\n",
       "      <th>tokenized</th>\n",
       "      <th>title_length</th>\n",
       "      <th>word_count</th>\n",
       "      <th>title_selftext</th>\n",
       "      <th>title_selftext_word_count</th>\n",
       "    </tr>\n",
       "  </thead>\n",
       "  <tbody>\n",
       "    <tr>\n",
       "      <th>0</th>\n",
       "      <td>1</td>\n",
       "      <td>For years I put money into a deferred compensa...</td>\n",
       "      <td>percentage of paycheck into deferred comp plan...</td>\n",
       "      <td>[percentage, of, paycheck, into, deferred, com...</td>\n",
       "      <td>62</td>\n",
       "      <td>9</td>\n",
       "      <td>percentage of paycheck into deferred comp plan...</td>\n",
       "      <td>121</td>\n",
       "    </tr>\n",
       "    <tr>\n",
       "      <th>1</th>\n",
       "      <td>1</td>\n",
       "      <td>So I’m 19 and currently in university And Ive ...</td>\n",
       "      <td>19yrs old first car (you know the drill)</td>\n",
       "      <td>[old, first, car, you, know, the, drill]</td>\n",
       "      <td>40</td>\n",
       "      <td>8</td>\n",
       "      <td>19yrs old first car (you know the drill)So I’m...</td>\n",
       "      <td>94</td>\n",
       "    </tr>\n",
       "    <tr>\n",
       "      <th>2</th>\n",
       "      <td>1</td>\n",
       "      <td>The other day I was turning right on a green i...</td>\n",
       "      <td>other driver ran into me, but i don't have ins...</td>\n",
       "      <td>[other, driver, ran, into, me, but, i, do, hav...</td>\n",
       "      <td>53</td>\n",
       "      <td>10</td>\n",
       "      <td>other driver ran into me, but i don't have ins...</td>\n",
       "      <td>157</td>\n",
       "    </tr>\n",
       "    <tr>\n",
       "      <th>3</th>\n",
       "      <td>1</td>\n",
       "      <td></td>\n",
       "      <td>need help with a parent who’s reluctant to beg...</td>\n",
       "      <td>[need, help, with, a, parent, who, s, reluctan...</td>\n",
       "      <td>76</td>\n",
       "      <td>14</td>\n",
       "      <td>need help with a parent who’s reluctant to beg...</td>\n",
       "      <td>14</td>\n",
       "    </tr>\n",
       "    <tr>\n",
       "      <th>4</th>\n",
       "      <td>1</td>\n",
       "      <td></td>\n",
       "      <td>how do i buy a house? how do i qualify? what’s...</td>\n",
       "      <td>[how, do, i, buy, a, house, how, do, i, qualif...</td>\n",
       "      <td>59</td>\n",
       "      <td>13</td>\n",
       "      <td>how do i buy a house? how do i qualify? what’s...</td>\n",
       "      <td>13</td>\n",
       "    </tr>\n",
       "  </tbody>\n",
       "</table>\n",
       "</div>"
      ],
      "text/plain": [
       "   subreddit                                           selftext  \\\n",
       "0          1  For years I put money into a deferred compensa...   \n",
       "1          1  So I’m 19 and currently in university And Ive ...   \n",
       "2          1  The other day I was turning right on a green i...   \n",
       "3          1                                                      \n",
       "4          1                                                      \n",
       "\n",
       "                                               title  \\\n",
       "0  percentage of paycheck into deferred comp plan...   \n",
       "1           19yrs old first car (you know the drill)   \n",
       "2  other driver ran into me, but i don't have ins...   \n",
       "3  need help with a parent who’s reluctant to beg...   \n",
       "4  how do i buy a house? how do i qualify? what’s...   \n",
       "\n",
       "                                           tokenized  title_length  \\\n",
       "0  [percentage, of, paycheck, into, deferred, com...            62   \n",
       "1           [old, first, car, you, know, the, drill]            40   \n",
       "2  [other, driver, ran, into, me, but, i, do, hav...            53   \n",
       "3  [need, help, with, a, parent, who, s, reluctan...            76   \n",
       "4  [how, do, i, buy, a, house, how, do, i, qualif...            59   \n",
       "\n",
       "   word_count                                     title_selftext  \\\n",
       "0           9  percentage of paycheck into deferred comp plan...   \n",
       "1           8  19yrs old first car (you know the drill)So I’m...   \n",
       "2          10  other driver ran into me, but i don't have ins...   \n",
       "3          14  need help with a parent who’s reluctant to beg...   \n",
       "4          13  how do i buy a house? how do i qualify? what’s...   \n",
       "\n",
       "   title_selftext_word_count  \n",
       "0                        121  \n",
       "1                         94  \n",
       "2                        157  \n",
       "3                         14  \n",
       "4                         13  "
      ]
     },
     "execution_count": 56,
     "metadata": {},
     "output_type": "execute_result"
    }
   ],
   "source": [
    "df['title_selftext_word_count'] = df['title_selftext'].apply(lambda x: len(x.split()))\n",
    "df.head()"
   ]
  },
  {
   "cell_type": "code",
   "execution_count": 57,
   "id": "a1037c8c-5ef4-486a-bfff-175b56b60f8c",
   "metadata": {},
   "outputs": [
    {
     "data": {
      "text/html": [
       "<div>\n",
       "<style scoped>\n",
       "    .dataframe tbody tr th:only-of-type {\n",
       "        vertical-align: middle;\n",
       "    }\n",
       "\n",
       "    .dataframe tbody tr th {\n",
       "        vertical-align: top;\n",
       "    }\n",
       "\n",
       "    .dataframe thead th {\n",
       "        text-align: right;\n",
       "    }\n",
       "</style>\n",
       "<table border=\"1\" class=\"dataframe\">\n",
       "  <thead>\n",
       "    <tr style=\"text-align: right;\">\n",
       "      <th></th>\n",
       "      <th>subreddit</th>\n",
       "      <th>selftext</th>\n",
       "      <th>title</th>\n",
       "      <th>tokenized</th>\n",
       "      <th>title_length</th>\n",
       "      <th>word_count</th>\n",
       "      <th>title_selftext</th>\n",
       "      <th>title_selftext_word_count</th>\n",
       "      <th>title_selftext_length</th>\n",
       "    </tr>\n",
       "  </thead>\n",
       "  <tbody>\n",
       "    <tr>\n",
       "      <th>0</th>\n",
       "      <td>1</td>\n",
       "      <td>For years I put money into a deferred compensa...</td>\n",
       "      <td>percentage of paycheck into deferred comp plan...</td>\n",
       "      <td>[percentage, of, paycheck, into, deferred, com...</td>\n",
       "      <td>62</td>\n",
       "      <td>9</td>\n",
       "      <td>percentage of paycheck into deferred comp plan...</td>\n",
       "      <td>121</td>\n",
       "      <td>682</td>\n",
       "    </tr>\n",
       "    <tr>\n",
       "      <th>1</th>\n",
       "      <td>1</td>\n",
       "      <td>So I’m 19 and currently in university And Ive ...</td>\n",
       "      <td>19yrs old first car (you know the drill)</td>\n",
       "      <td>[old, first, car, you, know, the, drill]</td>\n",
       "      <td>40</td>\n",
       "      <td>8</td>\n",
       "      <td>19yrs old first car (you know the drill)So I’m...</td>\n",
       "      <td>94</td>\n",
       "      <td>444</td>\n",
       "    </tr>\n",
       "    <tr>\n",
       "      <th>2</th>\n",
       "      <td>1</td>\n",
       "      <td>The other day I was turning right on a green i...</td>\n",
       "      <td>other driver ran into me, but i don't have ins...</td>\n",
       "      <td>[other, driver, ran, into, me, but, i, do, hav...</td>\n",
       "      <td>53</td>\n",
       "      <td>10</td>\n",
       "      <td>other driver ran into me, but i don't have ins...</td>\n",
       "      <td>157</td>\n",
       "      <td>801</td>\n",
       "    </tr>\n",
       "    <tr>\n",
       "      <th>3</th>\n",
       "      <td>1</td>\n",
       "      <td></td>\n",
       "      <td>need help with a parent who’s reluctant to beg...</td>\n",
       "      <td>[need, help, with, a, parent, who, s, reluctan...</td>\n",
       "      <td>76</td>\n",
       "      <td>14</td>\n",
       "      <td>need help with a parent who’s reluctant to beg...</td>\n",
       "      <td>14</td>\n",
       "      <td>77</td>\n",
       "    </tr>\n",
       "    <tr>\n",
       "      <th>4</th>\n",
       "      <td>1</td>\n",
       "      <td></td>\n",
       "      <td>how do i buy a house? how do i qualify? what’s...</td>\n",
       "      <td>[how, do, i, buy, a, house, how, do, i, qualif...</td>\n",
       "      <td>59</td>\n",
       "      <td>13</td>\n",
       "      <td>how do i buy a house? how do i qualify? what’s...</td>\n",
       "      <td>13</td>\n",
       "      <td>60</td>\n",
       "    </tr>\n",
       "  </tbody>\n",
       "</table>\n",
       "</div>"
      ],
      "text/plain": [
       "   subreddit                                           selftext  \\\n",
       "0          1  For years I put money into a deferred compensa...   \n",
       "1          1  So I’m 19 and currently in university And Ive ...   \n",
       "2          1  The other day I was turning right on a green i...   \n",
       "3          1                                                      \n",
       "4          1                                                      \n",
       "\n",
       "                                               title  \\\n",
       "0  percentage of paycheck into deferred comp plan...   \n",
       "1           19yrs old first car (you know the drill)   \n",
       "2  other driver ran into me, but i don't have ins...   \n",
       "3  need help with a parent who’s reluctant to beg...   \n",
       "4  how do i buy a house? how do i qualify? what’s...   \n",
       "\n",
       "                                           tokenized  title_length  \\\n",
       "0  [percentage, of, paycheck, into, deferred, com...            62   \n",
       "1           [old, first, car, you, know, the, drill]            40   \n",
       "2  [other, driver, ran, into, me, but, i, do, hav...            53   \n",
       "3  [need, help, with, a, parent, who, s, reluctan...            76   \n",
       "4  [how, do, i, buy, a, house, how, do, i, qualif...            59   \n",
       "\n",
       "   word_count                                     title_selftext  \\\n",
       "0           9  percentage of paycheck into deferred comp plan...   \n",
       "1           8  19yrs old first car (you know the drill)So I’m...   \n",
       "2          10  other driver ran into me, but i don't have ins...   \n",
       "3          14  need help with a parent who’s reluctant to beg...   \n",
       "4          13  how do i buy a house? how do i qualify? what’s...   \n",
       "\n",
       "   title_selftext_word_count  title_selftext_length  \n",
       "0                        121                    682  \n",
       "1                         94                    444  \n",
       "2                        157                    801  \n",
       "3                         14                     77  \n",
       "4                         13                     60  "
      ]
     },
     "execution_count": 57,
     "metadata": {},
     "output_type": "execute_result"
    }
   ],
   "source": [
    "df['title_selftext_length'] = df['title_selftext'].apply(len)\n",
    "df.head()"
   ]
  },
  {
   "cell_type": "code",
   "execution_count": 58,
   "id": "bf73285b-aaf0-406e-91d1-967e73bd9993",
   "metadata": {},
   "outputs": [
    {
     "data": {
      "text/html": [
       "<div>\n",
       "<style scoped>\n",
       "    .dataframe tbody tr th:only-of-type {\n",
       "        vertical-align: middle;\n",
       "    }\n",
       "\n",
       "    .dataframe tbody tr th {\n",
       "        vertical-align: top;\n",
       "    }\n",
       "\n",
       "    .dataframe thead th {\n",
       "        text-align: right;\n",
       "    }\n",
       "</style>\n",
       "<table border=\"1\" class=\"dataframe\">\n",
       "  <thead>\n",
       "    <tr style=\"text-align: right;\">\n",
       "      <th></th>\n",
       "      <th>subreddit</th>\n",
       "      <th>selftext</th>\n",
       "      <th>title</th>\n",
       "      <th>tokenized</th>\n",
       "      <th>title_selftext</th>\n",
       "      <th>title_selftext_word_count</th>\n",
       "      <th>title_selftext_length</th>\n",
       "    </tr>\n",
       "  </thead>\n",
       "  <tbody>\n",
       "    <tr>\n",
       "      <th>0</th>\n",
       "      <td>1</td>\n",
       "      <td>For years I put money into a deferred compensa...</td>\n",
       "      <td>percentage of paycheck into deferred comp plan...</td>\n",
       "      <td>[percentage, of, paycheck, into, deferred, com...</td>\n",
       "      <td>percentage of paycheck into deferred comp plan...</td>\n",
       "      <td>121</td>\n",
       "      <td>682</td>\n",
       "    </tr>\n",
       "    <tr>\n",
       "      <th>1</th>\n",
       "      <td>1</td>\n",
       "      <td>So I’m 19 and currently in university And Ive ...</td>\n",
       "      <td>19yrs old first car (you know the drill)</td>\n",
       "      <td>[old, first, car, you, know, the, drill]</td>\n",
       "      <td>19yrs old first car (you know the drill)So I’m...</td>\n",
       "      <td>94</td>\n",
       "      <td>444</td>\n",
       "    </tr>\n",
       "    <tr>\n",
       "      <th>2</th>\n",
       "      <td>1</td>\n",
       "      <td>The other day I was turning right on a green i...</td>\n",
       "      <td>other driver ran into me, but i don't have ins...</td>\n",
       "      <td>[other, driver, ran, into, me, but, i, do, hav...</td>\n",
       "      <td>other driver ran into me, but i don't have ins...</td>\n",
       "      <td>157</td>\n",
       "      <td>801</td>\n",
       "    </tr>\n",
       "    <tr>\n",
       "      <th>3</th>\n",
       "      <td>1</td>\n",
       "      <td></td>\n",
       "      <td>need help with a parent who’s reluctant to beg...</td>\n",
       "      <td>[need, help, with, a, parent, who, s, reluctan...</td>\n",
       "      <td>need help with a parent who’s reluctant to beg...</td>\n",
       "      <td>14</td>\n",
       "      <td>77</td>\n",
       "    </tr>\n",
       "    <tr>\n",
       "      <th>4</th>\n",
       "      <td>1</td>\n",
       "      <td></td>\n",
       "      <td>how do i buy a house? how do i qualify? what’s...</td>\n",
       "      <td>[how, do, i, buy, a, house, how, do, i, qualif...</td>\n",
       "      <td>how do i buy a house? how do i qualify? what’s...</td>\n",
       "      <td>13</td>\n",
       "      <td>60</td>\n",
       "    </tr>\n",
       "  </tbody>\n",
       "</table>\n",
       "</div>"
      ],
      "text/plain": [
       "   subreddit                                           selftext  \\\n",
       "0          1  For years I put money into a deferred compensa...   \n",
       "1          1  So I’m 19 and currently in university And Ive ...   \n",
       "2          1  The other day I was turning right on a green i...   \n",
       "3          1                                                      \n",
       "4          1                                                      \n",
       "\n",
       "                                               title  \\\n",
       "0  percentage of paycheck into deferred comp plan...   \n",
       "1           19yrs old first car (you know the drill)   \n",
       "2  other driver ran into me, but i don't have ins...   \n",
       "3  need help with a parent who’s reluctant to beg...   \n",
       "4  how do i buy a house? how do i qualify? what’s...   \n",
       "\n",
       "                                           tokenized  \\\n",
       "0  [percentage, of, paycheck, into, deferred, com...   \n",
       "1           [old, first, car, you, know, the, drill]   \n",
       "2  [other, driver, ran, into, me, but, i, do, hav...   \n",
       "3  [need, help, with, a, parent, who, s, reluctan...   \n",
       "4  [how, do, i, buy, a, house, how, do, i, qualif...   \n",
       "\n",
       "                                      title_selftext  \\\n",
       "0  percentage of paycheck into deferred comp plan...   \n",
       "1  19yrs old first car (you know the drill)So I’m...   \n",
       "2  other driver ran into me, but i don't have ins...   \n",
       "3  need help with a parent who’s reluctant to beg...   \n",
       "4  how do i buy a house? how do i qualify? what’s...   \n",
       "\n",
       "   title_selftext_word_count  title_selftext_length  \n",
       "0                        121                    682  \n",
       "1                         94                    444  \n",
       "2                        157                    801  \n",
       "3                         14                     77  \n",
       "4                         13                     60  "
      ]
     },
     "execution_count": 58,
     "metadata": {},
     "output_type": "execute_result"
    }
   ],
   "source": [
    "df.drop(columns = ['title_length', 'word_count'], inplace = True)\n",
    "df.head()"
   ]
  },
  {
   "cell_type": "markdown",
   "id": "e497ca55-226e-4331-bd06-43782272682b",
   "metadata": {},
   "source": [
    "* over half the financial independence rows have data missing in selftext. worth including in modeling?"
   ]
  },
  {
   "cell_type": "code",
   "execution_count": 59,
   "id": "a47057cc-b3aa-487e-9dfc-0c7d2b0718f7",
   "metadata": {},
   "outputs": [],
   "source": [
    "df.to_csv('revised_with_selftext.csv')"
   ]
  },
  {
   "cell_type": "code",
   "execution_count": 36,
   "id": "e64f8366-bc72-4759-93cb-df42c29b6663",
   "metadata": {
    "tags": []
   },
   "outputs": [],
   "source": [
    "# per_fin = df[df['tokenized'] == '1']\n",
    "# fin_ind = df[df['tokenized'] == '0']"
   ]
  },
  {
   "cell_type": "markdown",
   "id": "a403dd2f-f2bc-4ff1-ac7e-9bd3b94ac03f",
   "metadata": {},
   "source": [
    "top bigrams"
   ]
  },
  {
   "cell_type": "code",
   "execution_count": 37,
   "id": "3e93aa11-d5aa-4c97-a0a4-061f230ce56e",
   "metadata": {},
   "outputs": [],
   "source": [
    "# cv = CountVectorizer(stop_words = 'english', ngram_range = (2,2))\n",
    "\n",
    "# per_fin_vec = cv.fit_transform(per_fin['tokenized'])\n",
    "# per_fin_vec_df = pd.DataFrame(per_fin_vec.todense(), column = cv.get_feature_names_out())\n",
    "\n",
    "# fin_vec = cv.fit_transform(fin_ind['tokenized'])\n",
    "# fin_vec_df = pd.DataFrame(fin_vec.todense(), column = cv.get_feature_names_out())"
   ]
  },
  {
   "cell_type": "code",
   "execution_count": null,
   "id": "4f77b0ad-99ab-4d20-93e7-28456bb01e23",
   "metadata": {},
   "outputs": [],
   "source": []
  },
  {
   "cell_type": "code",
   "execution_count": 38,
   "id": "46d94627-2b37-4181-9a7e-090b559fce1f",
   "metadata": {},
   "outputs": [],
   "source": [
    "import seaborn as sns\n"
   ]
  },
  {
   "cell_type": "code",
   "execution_count": 39,
   "id": "1a6c68a8-9ced-47e7-b5f4-bc1bec19c38f",
   "metadata": {},
   "outputs": [
    {
     "data": {
      "image/png": "[encoded data removed]",
      "text/plain": [
       "<Figure size 1600x1600 with 4 Axes>"
      ]
     },
     "metadata": {},
     "output_type": "display_data"
    }
   ],
   "source": [
    "fig, ax = plt.subplots(2, 2, figsize=(16,16))\n",
    "sns.histplot(per_fin['title_length'], ax=ax[0,0])\n",
    "sns.histplot(fin_ind['title_length'], ax=ax[0,1])\n",
    "# sns.histplot(ja['word_count'], ax=ax[1,0])\n",
    "# sns.histplot(eap['word_count'], ax=ax[1,1])\n",
    "\n",
    "ax[0,0].set(xlabel='Length', title='personal finance')\n",
    "ax[0,1].set(xlabel='Length', title='financial independence',) #xlim=[-1000, 14_500])\n",
    "# ax[1,0].set(xlabel='Word Count', title='Jane Austen Word Count')\n",
    "# ax[1,1].set(xlabel='Word Count', title='Edgar Allan Poe Word Count')\n",
    "\n",
    "fig.suptitle('Character & Word Count Distributions', fontsize=20);"
   ]
  },
  {
   "cell_type": "code",
   "execution_count": null,
   "id": "c0764355-4f95-4f4d-b103-185339a8d1c9",
   "metadata": {},
   "outputs": [],
   "source": []
  }
 ],
 "metadata": {
  "kernelspec": {
   "display_name": "Python 3 (ipykernel)",
   "language": "python",
   "name": "python3"
  },
  "language_info": {
   "codemirror_mode": {
    "name": "ipython",
    "version": 3
   },
   "file_extension": ".py",
   "mimetype": "text/x-python",
   "name": "python",
   "nbconvert_exporter": "python",
   "pygments_lexer": "ipython3",
   "version": "3.9.13"
  }
 },
 "nbformat": 4,
 "nbformat_minor": 5
}
